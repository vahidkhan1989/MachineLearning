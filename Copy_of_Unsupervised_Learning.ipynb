{
  "nbformat": 4,
  "nbformat_minor": 0,
  "metadata": {
    "colab": {
      "name": "Copy of Unsupervised Learning.ipynb",
      "provenance": [],
      "collapsed_sections": [
        "O0SFiUCwG9-9",
        "SvLaRslSG9_N",
        "pswVrL32G9_P",
        "2HL5vWzCG9_Q",
        "fbhcF2HKG9_S",
        "Q5jTAlT9G9_T",
        "_OA_83sDG9_X",
        "LpFBXZNcXl8A",
        "jNgPtbMTG9_Z",
        "HR-nMPRRXl8B",
        "Ki8qDB9vG2LT",
        "5WLkpfaBXl8B",
        "bSU9x-QkG2Lb",
        "iEfGei7xXl8D",
        "1Kqwq_OBG2Le",
        "sErSM_kJXl8B",
        "-0XZrDWgG2Lf",
        "l-ydNP96Xl8B",
        "HKkBrDYnXl8C",
        "3267IqReXl8D",
        "aq_XJkDaG2Lg",
        "1tbj-vJHXl8C",
        "4adZagd-4Yc7",
        "34tHWcLAXl8C",
        "cZhzShcZFFCL",
        "gjLNL3qd8M-J",
        "1b2kTNMrBt8E",
        "Iy30MVWQ5gyD",
        "VrwdBuO1Xl8D"
      ]
    },
    "kernelspec": {
      "display_name": "Python 3",
      "name": "python3"
    },
    "language_info": {
      "name": "python"
    }
  },
  "cells": [
    {
      "cell_type": "markdown",
      "metadata": {
        "id": "O0SFiUCwG9-9"
      },
      "source": [
        "# **The Iris dataset in scikit-learn**"
      ]
    },
    {
      "cell_type": "code",
      "metadata": {
        "id": "fMi-kCq96RZM"
      },
      "source": [
        "from sklearn.datasets import load_iris\n",
        "import pandas as pd\n",
        "Iris = pd.read_csv('Iris.csv')\n",
        "samples = Iris.drop(['Id','Species','Species_2'], axis=1).values\n",
        "species = Iris['Species'].values"
      ],
      "execution_count": null,
      "outputs": []
    },
    {
      "cell_type": "code",
      "metadata": {
        "colab": {
          "base_uri": "https://localhost:8080/"
        },
        "id": "8hYGKe3j8-B6",
        "outputId": "a6b6424f-4e6e-4198-cf25-30c168b9e469"
      },
      "source": [
        "# k-means clustering\n",
        "from sklearn.cluster import KMeans\n",
        "model = KMeans(n_clusters=3)\n",
        "model.fit(samples)"
      ],
      "execution_count": null,
      "outputs": [
        {
          "output_type": "execute_result",
          "data": {
            "text/plain": [
              "KMeans(algorithm='auto', copy_x=True, init='k-means++', max_iter=300,\n",
              "       n_clusters=3, n_init=10, n_jobs=None, precompute_distances='auto',\n",
              "       random_state=None, tol=0.0001, verbose=0)"
            ]
          },
          "metadata": {
            "tags": []
          },
          "execution_count": 3
        }
      ]
    },
    {
      "cell_type": "code",
      "metadata": {
        "colab": {
          "base_uri": "https://localhost:8080/"
        },
        "id": "fb7QF0xM9DKd",
        "outputId": "8fed5193-c18d-4a26-d8d2-55e98d7bd106"
      },
      "source": [
        "labels = model.predict(samples)\n",
        "labels\n",
        "print(labels)"
      ],
      "execution_count": null,
      "outputs": [
        {
          "output_type": "stream",
          "text": [
            "[0 0 0 0 0 0 0 0 0 0 0 0 0 0 0 0 0 0 0 0 0 0 0 0 0 0 0 0 0 0 0 0 0 0 0 0 0\n",
            " 0 0 0 0 0 0 0 0 0 0 0 0 0 1 1 2 1 1 1 1 1 1 1 1 1 1 1 1 1 1 1 1 1 1 1 1 1\n",
            " 1 1 1 2 1 1 1 1 1 1 1 1 1 1 1 1 1 1 1 1 1 1 1 1 1 1 2 1 2 2 2 2 1 2 2 2 2\n",
            " 2 2 1 1 2 2 2 2 1 2 1 2 1 2 2 1 1 2 2 2 2 2 1 2 2 2 2 1 2 2 2 1 2 2 2 1 2\n",
            " 2 1]\n"
          ],
          "name": "stdout"
        }
      ]
    },
    {
      "cell_type": "code",
      "metadata": {
        "colab": {
          "base_uri": "https://localhost:8080/"
        },
        "id": "oh3s4E529X2T",
        "outputId": "c0655516-48b7-4f27-995e-f34741944e13"
      },
      "source": [
        "# Cluster labels for new samples\n",
        "new_samples = [[ 5.7 ,4.4 ,1.5 ,0.4],\n",
        "               [ 6.5 ,3.  ,5.5 ,1.8],\n",
        "               [ 5.8 ,2.7 ,5.1 ,1.9]]\n",
        "new_labels = model.predict(new_samples)\n",
        "print(new_labels)               "
      ],
      "execution_count": null,
      "outputs": [
        {
          "output_type": "stream",
          "text": [
            "[0 2 1]\n"
          ],
          "name": "stdout"
        }
      ]
    },
    {
      "cell_type": "code",
      "metadata": {
        "colab": {
          "base_uri": "https://localhost:8080/",
          "height": 265
        },
        "id": "6U47S6DrF-EQ",
        "outputId": "bd76cf84-3f2b-4ef6-bb77-fba9f756c676"
      },
      "source": [
        "# Scatter plots\n",
        "import matplotlib.pyplot as plt\n",
        "xs = samples[:,0]\n",
        "ys = samples[:,2]\n",
        "plt.scatter(xs, ys, c=labels)\n",
        "plt.show()"
      ],
      "execution_count": null,
      "outputs": [
        {
          "output_type": "display_data",
          "data": {
            "image/png": "[encoded data removed]",
            "text/plain": [
              "<Figure size 432x288 with 1 Axes>"
            ]
          },
          "metadata": {
            "tags": [],
            "needs_background": "light"
          }
        }
      ]
    },
    {
      "cell_type": "code",
      "metadata": {
        "colab": {
          "base_uri": "https://localhost:8080/"
        },
        "id": "vfj4bCQjPFi7",
        "outputId": "70c74900-95d4-49db-81aa-a87e07d4629a"
      },
      "source": [
        "labels"
      ],
      "execution_count": null,
      "outputs": [
        {
          "output_type": "execute_result",
          "data": {
            "text/plain": [
              "array([0, 0, 0, 0, 0, 0, 0, 0, 0, 0, 0, 0, 0, 0, 0, 0, 0, 0, 0, 0, 0, 0,\n",
              "       0, 0, 0, 0, 0, 0, 0, 0, 0, 0, 0, 0, 0, 0, 0, 0, 0, 0, 0, 0, 0, 0,\n",
              "       0, 0, 0, 0, 0, 0, 1, 1, 2, 1, 1, 1, 1, 1, 1, 1, 1, 1, 1, 1, 1, 1,\n",
              "       1, 1, 1, 1, 1, 1, 1, 1, 1, 1, 1, 2, 1, 1, 1, 1, 1, 1, 1, 1, 1, 1,\n",
              "       1, 1, 1, 1, 1, 1, 1, 1, 1, 1, 1, 1, 2, 1, 2, 2, 2, 2, 1, 2, 2, 2,\n",
              "       2, 2, 2, 1, 1, 2, 2, 2, 2, 1, 2, 1, 2, 1, 2, 2, 1, 1, 2, 2, 2, 2,\n",
              "       2, 1, 2, 2, 2, 2, 1, 2, 2, 2, 1, 2, 2, 2, 1, 2, 2, 1], dtype=int32)"
            ]
          },
          "metadata": {
            "tags": []
          },
          "execution_count": 9
        }
      ]
    },
    {
      "cell_type": "markdown",
      "metadata": {
        "id": "SvLaRslSG9_N"
      },
      "source": [
        "# **Evaluating a clustering**"
      ]
    },
    {
      "cell_type": "code",
      "metadata": {
        "colab": {
          "base_uri": "https://localhost:8080/"
        },
        "id": "vZAMJYNEXrYn",
        "outputId": "c55d1577-30f5-4b29-c4fd-209acb7d02f3"
      },
      "source": [
        "# Aligning labels and species\n",
        "import pandas as pd\n",
        "df = pd.DataFrame({'labels': labels, 'species': species})\n",
        "print(df)"
      ],
      "execution_count": null,
      "outputs": [
        {
          "output_type": "stream",
          "text": [
            "     labels    species\n",
            "0         0     setosa\n",
            "1         0     setosa\n",
            "2         0     setosa\n",
            "3         0     setosa\n",
            "4         0     setosa\n",
            "..      ...        ...\n",
            "145       2  virginica\n",
            "146       1  virginica\n",
            "147       2  virginica\n",
            "148       2  virginica\n",
            "149       1  virginica\n",
            "\n",
            "[150 rows x 2 columns]\n"
          ],
          "name": "stdout"
        }
      ]
    },
    {
      "cell_type": "code",
      "metadata": {
        "colab": {
          "base_uri": "https://localhost:8080/"
        },
        "id": "MfWrYfDWynBC",
        "outputId": "0c0e44cd-11a2-40f5-d086-9fd4186f3946"
      },
      "source": [
        "# Crosstab of labels and species\n",
        "ct = pd.crosstab(df['labels'], df['species'])\n",
        "print(ct)"
      ],
      "execution_count": null,
      "outputs": [
        {
          "output_type": "stream",
          "text": [
            "species  setosa  versicolor  virginica\n",
            "labels                                \n",
            "0            50           0          0\n",
            "1             0          48         14\n",
            "2             0           2         36\n"
          ],
          "name": "stdout"
        }
      ]
    },
    {
      "cell_type": "code",
      "metadata": {
        "colab": {
          "base_uri": "https://localhost:8080/"
        },
        "id": "mbxfYQOA6ANY",
        "outputId": "5342e0e1-d91b-42c9-dad2-7a77a9823490"
      },
      "source": [
        "# Inertia measures clustering quality\n",
        "from sklearn.cluster import KMeans\n",
        "model = KMeans(n_clusters=3)\n",
        "model.fit(samples)\n",
        "print(model.inertia_)"
      ],
      "execution_count": null,
      "outputs": [
        {
          "output_type": "stream",
          "text": [
            "78.94084142614602\n"
          ],
          "name": "stdout"
        }
      ]
    },
    {
      "cell_type": "markdown",
      "metadata": {
        "id": "pswVrL32G9_P"
      },
      "source": [
        "# **Transforming features for better clusterings**"
      ]
    },
    {
      "cell_type": "code",
      "metadata": {
        "id": "JqvRCVnLtjQH"
      },
      "source": [
        "import pandas as pd\n",
        "wine = pd.read_csv('wine.csv')\n",
        "samples = wine.drop(['class_label','class_name'], axis=1).values\n",
        "varieties = wine['class_name'].values"
      ],
      "execution_count": null,
      "outputs": []
    },
    {
      "cell_type": "code",
      "metadata": {
        "colab": {
          "base_uri": "https://localhost:8080/"
        },
        "id": "iSZfK4r4G26T",
        "outputId": "a12a14cb-84c4-4661-83ea-ed7d088a3a1f"
      },
      "source": [
        "samples"
      ],
      "execution_count": null,
      "outputs": [
        {
          "output_type": "execute_result",
          "data": {
            "text/plain": [
              "array([[1.423e+01, 1.710e+00, 2.430e+00, ..., 1.040e+00, 3.920e+00,\n",
              "        1.065e+03],\n",
              "       [1.320e+01, 1.780e+00, 2.140e+00, ..., 1.050e+00, 3.400e+00,\n",
              "        1.050e+03],\n",
              "       [1.316e+01, 2.360e+00, 2.670e+00, ..., 1.030e+00, 3.170e+00,\n",
              "        1.185e+03],\n",
              "       ...,\n",
              "       [1.327e+01, 4.280e+00, 2.260e+00, ..., 5.900e-01, 1.560e+00,\n",
              "        8.350e+02],\n",
              "       [1.317e+01, 2.590e+00, 2.370e+00, ..., 6.000e-01, 1.620e+00,\n",
              "        8.400e+02],\n",
              "       [1.413e+01, 4.100e+00, 2.740e+00, ..., 6.100e-01, 1.600e+00,\n",
              "        5.600e+02]])"
            ]
          },
          "metadata": {
            "tags": []
          },
          "execution_count": 14
        }
      ]
    },
    {
      "cell_type": "code",
      "metadata": {
        "id": "CG7mff10G9_Q"
      },
      "source": [
        "from sklearn.cluster import KMeans\n",
        "model = KMeans(n_clusters=3)\n",
        "labels = model.fit_predict(samples)"
      ],
      "execution_count": null,
      "outputs": []
    },
    {
      "cell_type": "code",
      "metadata": {
        "colab": {
          "base_uri": "https://localhost:8080/"
        },
        "id": "bMTp4qIet_i8",
        "outputId": "fa54a39e-98b0-44af-c10e-805d6d7c1ced"
      },
      "source": [
        "\n",
        "df = pd.DataFrame({'labels': labels, 'varieties': varieties})\n",
        "ct = pd.crosstab(df['labels'], df['varieties'])\n",
        "print(ct)"
      ],
      "execution_count": null,
      "outputs": [
        {
          "output_type": "stream",
          "text": [
            "varieties  Barbera  Barolo  Grignolino\n",
            "labels                                \n",
            "0               19       0          50\n",
            "1                0      46           1\n",
            "2               29      13          20\n"
          ],
          "name": "stdout"
        }
      ]
    },
    {
      "cell_type": "code",
      "metadata": {
        "id": "Fh_8UbN7AO-A"
      },
      "source": [
        "# sklearn StandardScaler\n",
        "from sklearn.preprocessing import StandardScaler\n",
        "scaler = StandardScaler()\n",
        "scaler.fit(samples)\n",
        "StandardScaler(copy=True, with_mean=True, with_std=True)\n",
        "samples_scaled = scaler.transform(samples)"
      ],
      "execution_count": null,
      "outputs": []
    },
    {
      "cell_type": "code",
      "metadata": {
        "colab": {
          "base_uri": "https://localhost:8080/"
        },
        "id": "gQi17S4RAgvH",
        "outputId": "7c007a45-2d3c-49a1-9599-2d3839ae9195"
      },
      "source": [
        "# Pipelines combine multiple steps\n",
        "from sklearn.preprocessing import StandardScaler\n",
        "from sklearn.cluster import KMeans\n",
        "scaler = StandardScaler()\n",
        "kmeans = KMeans(n_clusters=3)\n",
        "from sklearn.pipeline import make_pipeline\n",
        "pipeline = make_pipeline(scaler, kmeans)\n",
        "pipeline.fit(samples)"
      ],
      "execution_count": null,
      "outputs": [
        {
          "output_type": "execute_result",
          "data": {
            "text/plain": [
              "Pipeline(memory=None,\n",
              "         steps=[('standardscaler',\n",
              "                 StandardScaler(copy=True, with_mean=True, with_std=True)),\n",
              "                ('kmeans',\n",
              "                 KMeans(algorithm='auto', copy_x=True, init='k-means++',\n",
              "                        max_iter=300, n_clusters=3, n_init=10, n_jobs=None,\n",
              "                        precompute_distances='auto', random_state=None,\n",
              "                        tol=0.0001, verbose=0))],\n",
              "         verbose=False)"
            ]
          },
          "metadata": {
            "tags": []
          },
          "execution_count": 18
        }
      ]
    },
    {
      "cell_type": "code",
      "metadata": {
        "id": "eR6IzkSZAwsj"
      },
      "source": [
        "labels2 = pipeline.predict(samples)"
      ],
      "execution_count": null,
      "outputs": []
    },
    {
      "cell_type": "code",
      "metadata": {
        "colab": {
          "base_uri": "https://localhost:8080/"
        },
        "id": "C01Mr18un175",
        "outputId": "46ee9200-e57f-4f9d-d5da-8a8c7e33a8d1"
      },
      "source": [
        "df2 = pd.DataFrame({'labels': labels2, 'varieties': varieties})\n",
        "ct = pd.crosstab(df2['labels'], df2['varieties'])\n",
        "print(ct)"
      ],
      "execution_count": null,
      "outputs": [
        {
          "output_type": "stream",
          "text": [
            "varieties  Barbera  Barolo  Grignolino\n",
            "labels                                \n",
            "0                0       0          65\n",
            "1                0      59           3\n",
            "2               48       0           3\n"
          ],
          "name": "stdout"
        }
      ]
    },
    {
      "cell_type": "code",
      "metadata": {
        "colab": {
          "base_uri": "https://localhost:8080/"
        },
        "id": "T6yICY3kG9_Q",
        "outputId": "50e37fbd-fec6-4112-a4f6-6c2d1c43de32"
      },
      "source": [
        "df = pd.DataFrame({'labels': labels, 'varieties': varieties})\n",
        "ct = pd.crosstab(df['labels'], df['varieties'])\n",
        "print(ct)"
      ],
      "execution_count": null,
      "outputs": [
        {
          "output_type": "stream",
          "text": [
            "varieties  Barbera  Barolo  Grignolino\n",
            "labels                                \n",
            "0               19       0          50\n",
            "1                0      46           1\n",
            "2               29      13          20\n"
          ],
          "name": "stdout"
        }
      ]
    },
    {
      "cell_type": "markdown",
      "metadata": {
        "id": "2HL5vWzCG9_Q"
      },
      "source": [
        "# **Visualizing hierarchies**"
      ]
    },
    {
      "cell_type": "markdown",
      "metadata": {
        "id": "G8z09QMqUzk5"
      },
      "source": [
        "A sample of the grain measurements is provided in the array samples, while the variety of each grain sample is given by the list varieties."
      ]
    },
    {
      "cell_type": "code",
      "metadata": {
        "id": "3xB-lBV9G9_R"
      },
      "source": [
        "import pandas as pd\n",
        "wheat = pd.read_csv('wheat.csv')\n",
        "samples = wheat.drop(['varieties'], axis=1).values\n",
        "varieties = wheat['varieties'].values"
      ],
      "execution_count": null,
      "outputs": []
    },
    {
      "cell_type": "code",
      "metadata": {
        "id": "3FPihya3G9_R",
        "colab": {
          "base_uri": "https://localhost:8080/",
          "height": 308
        },
        "outputId": "e458635e-8915-447d-a0a0-a2e8d409f373"
      },
      "source": [
        "# Hierarchical clustering with SciPy\n",
        "import matplotlib.pyplot as plt\n",
        "from scipy.cluster.hierarchy import linkage, dendrogram\n",
        "mergings = linkage(samples, method='complete')\n",
        "dendrogram(mergings, labels=varieties, leaf_rotation=90, leaf_font_size=6)\n",
        "plt.show()"
      ],
      "execution_count": null,
      "outputs": [
        {
          "output_type": "display_data",
          "data": {
            "image/png": "[encoded data removed]",
            "text/plain": [
              "<Figure size 432x288 with 1 Axes>"
            ]
          },
          "metadata": {
            "tags": [],
            "needs_background": "light"
          }
        }
      ]
    },
    {
      "cell_type": "code",
      "metadata": {
        "colab": {
          "base_uri": "https://localhost:8080/"
        },
        "id": "HEk9qQjhVqvZ",
        "outputId": "9c2b479b-c6ab-4cc0-d9e8-e906de609d1c"
      },
      "source": [
        "from scipy.cluster.hierarchy import linkage\n",
        "mergings = linkage(samples, method='complete')\n",
        "from scipy.cluster.hierarchy import fcluster\n",
        "labels = fcluster(mergings, 6, criterion='distance')\n",
        "print(labels)"
      ],
      "execution_count": null,
      "outputs": [
        {
          "output_type": "stream",
          "text": [
            "[3 3 3 3 3 1 3 3 1 3 3 3 1 3 2 2 2 2 2 2 2 2 2 2 2 2 2 2 1 1 1 1 1 1 1 1 1\n",
            " 1 1 1 1 1]\n"
          ],
          "name": "stdout"
        }
      ]
    },
    {
      "cell_type": "code",
      "metadata": {
        "colab": {
          "base_uri": "https://localhost:8080/"
        },
        "id": "iQTmoZs2E0B9",
        "outputId": "5c115152-53f6-4e3b-86cc-9a33e641ad27"
      },
      "source": [
        "import pandas as pd\n",
        "pairs = pd.DataFrame({'labels': labels, 'countries': varieties})\n",
        "print(pairs.sort_values('labels'))"
      ],
      "execution_count": null,
      "outputs": [
        {
          "output_type": "stream",
          "text": [
            "    labels        countries\n",
            "41       1   Canadian wheat\n",
            "28       1   Canadian wheat\n",
            "29       1   Canadian wheat\n",
            "30       1   Canadian wheat\n",
            "12       1       Kama wheat\n",
            "31       1   Canadian wheat\n",
            "40       1   Canadian wheat\n",
            "33       1   Canadian wheat\n",
            "32       1   Canadian wheat\n",
            "34       1   Canadian wheat\n",
            "35       1   Canadian wheat\n",
            "5        1       Kama wheat\n",
            "36       1   Canadian wheat\n",
            "37       1   Canadian wheat\n",
            "38       1   Canadian wheat\n",
            "39       1   Canadian wheat\n",
            "8        1       Kama wheat\n",
            "27       2       Rosa wheat\n",
            "26       2       Rosa wheat\n",
            "25       2       Rosa wheat\n",
            "24       2       Rosa wheat\n",
            "23       2       Rosa wheat\n",
            "20       2       Rosa wheat\n",
            "21       2       Rosa wheat\n",
            "19       2       Rosa wheat\n",
            "18       2       Rosa wheat\n",
            "17       2       Rosa wheat\n",
            "16       2       Rosa wheat\n",
            "15       2       Rosa wheat\n",
            "14       2       Rosa wheat\n",
            "22       2       Rosa wheat\n",
            "1        3       Kama wheat\n",
            "2        3       Kama wheat\n",
            "3        3       Kama wheat\n",
            "4        3       Kama wheat\n",
            "10       3       Kama wheat\n",
            "7        3       Kama wheat\n",
            "9        3       Kama wheat\n",
            "11       3       Kama wheat\n",
            "13       3       Kama wheat\n",
            "6        3       Kama wheat\n",
            "0        3       Kama wheat\n"
          ],
          "name": "stdout"
        }
      ]
    },
    {
      "cell_type": "markdown",
      "metadata": {
        "id": "fbhcF2HKG9_S"
      },
      "source": [
        "# **t-SNE for 2-dimensional maps**"
      ]
    },
    {
      "cell_type": "code",
      "metadata": {
        "id": "5qu7kHmEicd0"
      },
      "source": [
        "from sklearn.datasets import load_iris\n",
        "import pandas as pd\n",
        "Iris = pd.read_csv('Iris.csv')\n",
        "samples = Iris.drop(['Id','Species','Species_2'], axis=1).values\n",
        "species = Iris['Species_2'].values"
      ],
      "execution_count": null,
      "outputs": []
    },
    {
      "cell_type": "code",
      "metadata": {
        "id": "fEeswq9Dle61"
      },
      "source": [
        "species"
      ],
      "execution_count": null,
      "outputs": []
    },
    {
      "cell_type": "code",
      "metadata": {
        "colab": {
          "base_uri": "https://localhost:8080/",
          "height": 265
        },
        "id": "Cy-h-6GQimu-",
        "outputId": "a23798d0-644f-4be1-dc16-a9c1c47b98ec"
      },
      "source": [
        "# t-SNE in sklearn\n",
        "import matplotlib.pyplot as plt\n",
        "from sklearn.manifold import TSNE\n",
        "model = TSNE(learning_rate=100)\n",
        "transformed = model.fit_transform(samples)\n",
        "xs = transformed[:,0]\n",
        "ys = transformed[:,1]\n",
        "plt.scatter(xs, ys, c=species)\n",
        "plt.show()\n",
        "# labels"
      ],
      "execution_count": null,
      "outputs": [
        {
          "output_type": "display_data",
          "data": {
            "image/png": "[encoded data removed]",
            "text/plain": [
              "<Figure size 432x288 with 1 Axes>"
            ]
          },
          "metadata": {
            "tags": [],
            "needs_background": "light"
          }
        }
      ]
    },
    {
      "cell_type": "markdown",
      "metadata": {
        "id": "Q5jTAlT9G9_T"
      },
      "source": [
        "# **Using scikit-learn PCA**"
      ]
    },
    {
      "cell_type": "code",
      "metadata": {
        "id": "9MwOvq6BG9_T"
      },
      "source": [
        "# Using scikit-learn PCA\n",
        "import pandas as pd\n",
        "wine = pd.read_csv('wine.csv')\n",
        "samples = wine[['total_phenols','od280']].values"
      ],
      "execution_count": null,
      "outputs": []
    },
    {
      "cell_type": "code",
      "metadata": {
        "colab": {
          "base_uri": "https://localhost:8080/"
        },
        "id": "mmi0lj4TS8qg",
        "outputId": "e8810d7f-2040-4619-b060-e0c9a22173aa"
      },
      "source": [
        "samples"
      ],
      "execution_count": null,
      "outputs": [
        {
          "output_type": "execute_result",
          "data": {
            "text/plain": [
              "array([[2.8 , 3.92],\n",
              "       [2.65, 3.4 ],\n",
              "       [2.8 , 3.17],\n",
              "       [3.85, 3.45],\n",
              "       [2.8 , 2.93],\n",
              "       [3.27, 2.85],\n",
              "       [2.5 , 3.58],\n",
              "       [2.6 , 3.58],\n",
              "       [2.8 , 2.85],\n",
              "       [2.98, 3.55],\n",
              "       [2.95, 3.17],\n",
              "       [2.2 , 2.82],\n",
              "       [2.6 , 2.9 ],\n",
              "       [3.1 , 2.73],\n",
              "       [3.3 , 3.  ],\n",
              "       [2.85, 2.88],\n",
              "       [2.8 , 2.65],\n",
              "       [2.95, 2.57],\n",
              "       [3.3 , 2.82],\n",
              "       [2.7 , 3.36],\n",
              "       [3.  , 3.71],\n",
              "       [2.41, 3.52],\n",
              "       [2.61, 4.  ],\n",
              "       [2.48, 3.63],\n",
              "       [2.53, 3.82],\n",
              "       [2.63, 3.2 ],\n",
              "       [2.85, 3.22],\n",
              "       [2.4 , 2.77],\n",
              "       [2.95, 3.4 ],\n",
              "       [2.65, 3.59],\n",
              "       [3.  , 2.71],\n",
              "       [2.86, 2.88],\n",
              "       [2.42, 2.87],\n",
              "       [2.95, 3.  ],\n",
              "       [2.35, 2.87],\n",
              "       [2.7 , 3.47],\n",
              "       [2.6 , 2.78],\n",
              "       [2.45, 2.51],\n",
              "       [2.4 , 2.69],\n",
              "       [3.  , 3.53],\n",
              "       [3.15, 3.38],\n",
              "       [2.45, 3.  ],\n",
              "       [3.25, 3.56],\n",
              "       [2.64, 3.  ],\n",
              "       [3.  , 3.35],\n",
              "       [2.85, 3.33],\n",
              "       [3.25, 3.44],\n",
              "       [3.1 , 3.33],\n",
              "       [2.75, 2.75],\n",
              "       [2.88, 3.1 ],\n",
              "       [2.72, 2.91],\n",
              "       [2.45, 3.37],\n",
              "       [3.88, 3.26],\n",
              "       [3.  , 2.93],\n",
              "       [2.6 , 3.2 ],\n",
              "       [2.96, 3.03],\n",
              "       [3.2 , 3.31],\n",
              "       [3.  , 2.84],\n",
              "       [3.4 , 2.87],\n",
              "       [1.98, 1.82],\n",
              "       [2.05, 1.67],\n",
              "       [2.02, 1.59],\n",
              "       [2.1 , 2.46],\n",
              "       [3.5 , 2.87],\n",
              "       [1.89, 2.23],\n",
              "       [2.42, 2.3 ],\n",
              "       [2.98, 3.18],\n",
              "       [2.11, 3.48],\n",
              "       [2.53, 1.93],\n",
              "       [1.85, 3.07],\n",
              "       [1.1 , 1.82],\n",
              "       [2.95, 3.16],\n",
              "       [1.88, 2.78],\n",
              "       [3.3 , 3.5 ],\n",
              "       [3.38, 3.13],\n",
              "       [1.61, 2.14],\n",
              "       [1.95, 2.48],\n",
              "       [1.72, 2.52],\n",
              "       [1.9 , 2.31],\n",
              "       [2.83, 3.13],\n",
              "       [2.42, 3.12],\n",
              "       [2.2 , 3.14],\n",
              "       [2.  , 2.72],\n",
              "       [1.65, 2.01],\n",
              "       [2.2 , 3.08],\n",
              "       [2.2 , 3.16],\n",
              "       [1.78, 2.26],\n",
              "       [1.92, 3.21],\n",
              "       [1.95, 2.75],\n",
              "       [2.2 , 3.21],\n",
              "       [1.6 , 2.27],\n",
              "       [1.45, 2.65],\n",
              "       [1.38, 2.06],\n",
              "       [2.45, 3.3 ],\n",
              "       [3.02, 2.96],\n",
              "       [2.5 , 2.63],\n",
              "       [1.6 , 2.26],\n",
              "       [2.55, 2.74],\n",
              "       [3.52, 2.77],\n",
              "       [2.85, 2.83],\n",
              "       [2.23, 2.96],\n",
              "       [1.45, 2.77],\n",
              "       [2.56, 3.38],\n",
              "       [2.5 , 2.44],\n",
              "       [2.2 , 3.57],\n",
              "       [1.68, 3.3 ],\n",
              "       [1.65, 3.17],\n",
              "       [1.38, 2.42],\n",
              "       [2.36, 3.02],\n",
              "       [2.74, 3.26],\n",
              "       [3.18, 2.81],\n",
              "       [2.55, 2.78],\n",
              "       [1.75, 2.5 ],\n",
              "       [2.48, 2.31],\n",
              "       [2.56, 3.19],\n",
              "       [2.46, 2.87],\n",
              "       [1.98, 3.33],\n",
              "       [2.  , 2.96],\n",
              "       [1.63, 2.12],\n",
              "       [2.  , 3.05],\n",
              "       [2.9 , 3.39],\n",
              "       [3.18, 3.69],\n",
              "       [2.2 , 3.12],\n",
              "       [2.62, 3.1 ],\n",
              "       [2.86, 3.64],\n",
              "       [2.6 , 3.28],\n",
              "       [2.74, 2.84],\n",
              "       [2.13, 2.44],\n",
              "       [2.22, 2.78],\n",
              "       [2.1 , 2.57],\n",
              "       [1.51, 1.29],\n",
              "       [1.3 , 1.42],\n",
              "       [1.15, 1.36],\n",
              "       [1.7 , 1.29],\n",
              "       [2.  , 1.51],\n",
              "       [1.62, 1.58],\n",
              "       [1.38, 1.27],\n",
              "       [1.79, 1.69],\n",
              "       [1.62, 1.82],\n",
              "       [2.32, 2.15],\n",
              "       [1.54, 2.31],\n",
              "       [1.4 , 2.47],\n",
              "       [1.55, 2.06],\n",
              "       [2.  , 2.05],\n",
              "       [1.38, 2.  ],\n",
              "       [1.5 , 1.68],\n",
              "       [0.98, 1.33],\n",
              "       [1.7 , 1.86],\n",
              "       [1.93, 1.62],\n",
              "       [1.41, 1.33],\n",
              "       [1.4 , 1.3 ],\n",
              "       [1.48, 1.47],\n",
              "       [2.2 , 1.33],\n",
              "       [1.8 , 1.51],\n",
              "       [1.48, 1.55],\n",
              "       [1.74, 1.48],\n",
              "       [1.8 , 1.64],\n",
              "       [1.9 , 1.73],\n",
              "       [2.8 , 1.96],\n",
              "       [2.6 , 1.78],\n",
              "       [2.3 , 1.58],\n",
              "       [1.83, 1.82],\n",
              "       [1.65, 2.11],\n",
              "       [1.39, 1.75],\n",
              "       [1.35, 1.68],\n",
              "       [1.28, 1.75],\n",
              "       [1.7 , 1.56],\n",
              "       [1.48, 1.75],\n",
              "       [1.55, 1.8 ],\n",
              "       [1.98, 1.92],\n",
              "       [1.25, 1.83],\n",
              "       [1.39, 1.63],\n",
              "       [1.68, 1.71],\n",
              "       [1.68, 1.74],\n",
              "       [1.8 , 1.56],\n",
              "       [1.59, 1.56],\n",
              "       [1.65, 1.62],\n",
              "       [2.05, 1.6 ]])"
            ]
          },
          "metadata": {
            "tags": []
          },
          "execution_count": 36
        }
      ]
    },
    {
      "cell_type": "code",
      "metadata": {
        "id": "T1GtQ5qKNYLu"
      },
      "source": [
        "samples"
      ],
      "execution_count": null,
      "outputs": []
    },
    {
      "cell_type": "code",
      "metadata": {
        "colab": {
          "base_uri": "https://localhost:8080/"
        },
        "id": "yx6QRZV14j5h",
        "outputId": "490abb86-2ba5-4fa9-812f-0e7cfd980fc8"
      },
      "source": [
        "from sklearn.decomposition import PCA\n",
        "model = PCA()\n",
        "model.fit(samples)"
      ],
      "execution_count": null,
      "outputs": [
        {
          "output_type": "execute_result",
          "data": {
            "text/plain": [
              "PCA(copy=True, iterated_power='auto', n_components=None, random_state=None,\n",
              "    svd_solver='auto', tol=0.0, whiten=False)"
            ]
          },
          "metadata": {
            "tags": []
          },
          "execution_count": 33
        }
      ]
    },
    {
      "cell_type": "code",
      "metadata": {
        "id": "JdtcGK_L4noo"
      },
      "source": [
        "transformed = model.transform(samples)"
      ],
      "execution_count": null,
      "outputs": []
    },
    {
      "cell_type": "code",
      "metadata": {
        "id": "tLuVp6Aw4uz_",
        "colab": {
          "base_uri": "https://localhost:8080/"
        },
        "outputId": "c5d6d7db-7f53-4451-9e4d-0c30ccea31fd"
      },
      "source": [
        "print(transformed)"
      ],
      "execution_count": null,
      "outputs": [
        {
          "output_type": "stream",
          "text": [
            "[[-1.32771994e+00  4.51396070e-01]\n",
            " [-8.32496068e-01  2.33099664e-01]\n",
            " [-7.52168680e-01 -2.94789161e-02]\n",
            " [-1.64026613e+00 -6.55724013e-01]\n",
            " [-5.67992278e-01 -1.83358911e-01]\n",
            " [-8.07948468e-01 -5.95331030e-01]\n",
            " [-8.74453372e-01  4.63619912e-01]\n",
            " [-9.38570037e-01  3.86879744e-01]\n",
            " [-5.06600144e-01 -2.34652243e-01]\n",
            " [-1.15919131e+00  7.60321086e-02]\n",
            " [-8.48343677e-01 -1.44589167e-01]\n",
            " [-9.88781053e-02  2.06553762e-01]\n",
            " [-4.16736898e-01 -4.91135760e-02]\n",
            " [-6.06861937e-01 -5.41812743e-01]\n",
            " [-9.42293719e-01 -5.22178083e-01]\n",
            " [-5.61680527e-01 -2.53787328e-01]\n",
            " [-3.53119809e-01 -3.62885573e-01]\n",
            " [-3.87902672e-01 -5.29289156e-01]\n",
            " [-8.04161418e-01 -6.37588080e-01]\n",
            " [-8.33858333e-01  1.69082914e-01]\n",
            " [-1.29479891e+00  1.63270739e-01]\n",
            " [-7.70704274e-01  4.94216064e-01]\n",
            " [-1.26729041e+00  6.48495720e-01]\n",
            " [-9.00000123e-01  5.11026278e-01]\n",
            " [-1.07786477e+00  5.94477857e-01]\n",
            " [-6.66192400e-01  1.20214368e-01]\n",
            " [-8.22597096e-01 -3.57906674e-02]\n",
            " [-1.88741351e-01  2.10150947e-02]\n",
            " [-1.02484606e+00  2.87916168e-03]\n",
            " [-9.78302386e-01  3.54921327e-01]\n",
            " [-5.27397239e-01 -4.77895909e-01]\n",
            " [-5.68092193e-01 -2.61461344e-01]\n",
            " [-2.78304852e-01  6.97837260e-02]\n",
            " [-7.17885392e-01 -2.53587497e-01]\n",
            " [-2.33423186e-01  1.23501843e-01]\n",
            " [-9.18272518e-01  2.39611246e-01]\n",
            " [-3.24648697e-01 -1.26053574e-01]\n",
            " [-2.12752481e-02 -1.84058317e-01]\n",
            " [-1.27349217e-01 -3.02782371e-02]\n",
            " [-1.15666661e+00  4.78607421e-02]\n",
            " [-1.13773136e+00 -1.63424506e-01]\n",
            " [-3.97302069e-01  1.30113340e-01]\n",
            " [-1.33998032e+00 -1.24754677e-01]\n",
            " [-5.19123732e-01 -1.56929782e-02]\n",
            " [-1.01853431e+00 -6.75492544e-02]\n",
            " [-9.07011280e-01  3.47376638e-02]\n",
            " [-1.24789212e+00 -2.01694675e-01]\n",
            " [-1.06730294e+00 -1.57112755e-01]\n",
            " [-3.97801644e-01 -2.60398824e-01]\n",
            " [-7.49743895e-01 -1.35752715e-01]\n",
            " [-5.01350913e-01 -1.34790110e-01]\n",
            " [-6.81240688e-01  3.67345000e-01]\n",
            " [-1.51369481e+00 -8.00567726e-01]\n",
            " [-6.96225608e-01 -3.36839246e-01]\n",
            " [-6.46957401e-01  1.43236418e-01]\n",
            " [-7.47319109e-01 -2.42026515e-01]\n",
            " [-1.11607157e+00 -2.46676255e-01]\n",
            " [-6.27159457e-01 -3.94544245e-01]\n",
            " [-9.06648166e-01 -6.82269915e-01]\n",
            " [ 8.09580232e-01 -2.65784517e-01]\n",
            " [ 8.79808818e-01 -4.15677631e-01]\n",
            " [ 9.60435951e-01 -4.43948913e-01]\n",
            " [ 2.41503162e-01  5.24739364e-02]\n",
            " [-9.70764831e-01 -7.59010083e-01]\n",
            " [ 5.52650543e-01  6.61599591e-02]\n",
            " [ 1.59114103e-01 -2.95681263e-01]\n",
            " [-8.75252693e-01 -1.61199551e-01]\n",
            " [-5.47658212e-01  6.98789900e-01]\n",
            " [ 3.72524391e-01 -6.17327107e-01]\n",
            " [-6.63201973e-02  6.35436010e-01]\n",
            " [ 1.37380688e+00  4.09528957e-01]\n",
            " [-8.40669660e-01 -1.51000834e-01]\n",
            " [ 1.36991289e-01  4.26475632e-01]\n",
            " [-1.32599456e+00 -2.01594760e-01]\n",
            " [-1.09334927e+00 -5.00218553e-01]\n",
            " [ 8.01243355e-01  2.23327430e-01]\n",
            " [ 3.22330126e-01  1.80407521e-01]\n",
            " [ 4.39102388e-01  3.82556572e-01]\n",
            " [ 4.84846743e-01  1.09779274e-01]\n",
            " [-7.40707612e-01 -7.81476322e-02]\n",
            " [-4.70155270e-01  2.30075388e-01]\n",
            " [-3.44446641e-01  4.11727089e-01]\n",
            " [ 1.06095392e-01  2.95917432e-01]\n",
            " [ 8.75358907e-01  1.09279699e-01]\n",
            " [-2.98402541e-01  3.73257090e-01]\n",
            " [-3.59794675e-01  4.24550422e-01]\n",
            " [ 6.00156824e-01  1.69809143e-01]\n",
            " [-2.18638097e-01  6.71481223e-01]\n",
            " [ 1.15131674e-01  3.53522515e-01]\n",
            " [-3.98164758e-01  4.56608755e-01]\n",
            " [ 7.07892804e-01  3.14353111e-01]\n",
            " [ 5.12455165e-01  6.73106688e-01]\n",
            " [ 1.01010382e+00  3.48536483e-01]\n",
            " [-6.27522571e-01  3.22463334e-01]\n",
            " [-7.32070991e-01 -3.32952280e-01]\n",
            " [-1.45421781e-01 -1.45488403e-01]\n",
            " [ 7.15566821e-01  3.07941444e-01]\n",
            " [-2.61894298e-01 -1.13330156e-01]\n",
            " [-9.06847996e-01 -8.38474781e-01]\n",
            " [-5.23310443e-01 -2.85845660e-01]\n",
            " [-2.25549339e-01  2.73295042e-01]\n",
            " [ 4.20366964e-01  7.50046686e-01]\n",
            " [-7.59443036e-01  2.89342482e-01]\n",
            " [ 3.84536736e-04 -2.67310066e-01]\n",
            " [-6.74429361e-01  6.87428748e-01]\n",
            " [-1.33824252e-01  9.13362624e-01]\n",
            " [-1.48270353e-02  8.53033010e-01]\n",
            " [ 7.33839215e-01  5.79356476e-01]\n",
            " [-3.54945104e-01  2.12002824e-01]\n",
            " [-7.82764832e-01  7.42701827e-02]\n",
            " [-7.19547403e-01 -5.51911546e-01]\n",
            " [-2.92590365e-01 -8.76834900e-02]\n",
            " [ 4.35215422e-01  3.46711188e-01]\n",
            " [ 1.12970087e-01 -3.35313697e-01]\n",
            " [-6.13636718e-01  1.67520819e-01]\n",
            " [-3.03951517e-01  3.90876590e-02]\n",
            " [-3.49196297e-01  7.02377121e-01]\n",
            " [-7.80810103e-02  4.49797428e-01]\n",
            " [ 8.03768056e-01  1.95156063e-01]\n",
            " [-1.47147161e-01  5.07502426e-01]\n",
            " [-9.85113713e-01  3.48375789e-02]\n",
            " [-1.39486088e+00  1.23151043e-02]\n",
            " [-3.29098608e-01  3.98903756e-01]\n",
            " [-5.83040566e-01  6.37717200e-02]\n",
            " [-1.15131747e+00  2.25825308e-01]\n",
            " [-7.08349535e-01  1.94529750e-01]\n",
            " [-4.60456128e-01 -1.95019809e-01]\n",
            " [ 2.37616196e-01  1.66285532e-02]\n",
            " [-8.10053713e-02  1.65559063e-01]\n",
            " [ 1.57088978e-01  1.23002268e-01]\n",
            " [ 1.51765144e+00 -2.44924053e-01]\n",
            " [ 1.55253422e+00 -4.18037417e-04]\n",
            " [ 1.69475332e+00  7.62222149e-02]\n",
            " [ 1.39582978e+00 -3.90730371e-01]\n",
            " [ 1.03465142e+00 -4.79894211e-01]\n",
            " [ 1.22457663e+00 -1.43399910e-01]\n",
            " [ 1.61635114e+00 -1.57985169e-01]\n",
            " [ 1.03116411e+00 -2.03329863e-01]\n",
            " [ 1.04040022e+00  1.04800857e-02]\n",
            " [ 3.38341019e-01 -3.15116093e-01]\n",
            " [ 7.15666736e-01  3.86043877e-01]\n",
            " [ 6.82645799e-01  5.96066775e-01]\n",
            " [ 9.01105488e-01  2.18078198e-01]\n",
            " [ 6.20254514e-01 -1.33664222e-01]\n",
            " [ 1.05614792e+00  3.10066484e-01]\n",
            " [ 1.22477646e+00  1.28049560e-02]\n",
            " [ 1.82677370e+00  1.87445500e-01]\n",
            " [ 9.58410826e-01 -2.52653823e-02]\n",
            " [ 9.95118899e-01 -3.55647763e-01]\n",
            " [ 1.55107204e+00 -1.42537220e-01]\n",
            " [ 1.58050576e+00 -1.54098203e-01]\n",
            " [ 1.39875414e+00 -1.06492006e-01]\n",
            " [ 1.04455039e+00 -7.48784543e-01]\n",
            " [ 1.16288475e+00 -3.26413876e-01]\n",
            " [ 1.33736201e+00 -5.51986747e-02]\n",
            " [ 1.22437680e+00 -2.99604775e-01]\n",
            " [ 1.06312253e+00 -2.43062212e-01]\n",
            " [ 9.29939714e-01 -2.62097381e-01]\n",
            " [ 1.76387346e-01 -8.05290560e-01]\n",
            " [ 4.42752977e-01 -7.67220221e-01]\n",
            " [ 7.88583306e-01 -6.65233048e-01]\n",
            " [ 9.05755229e-01 -1.50674266e-01]\n",
            " [ 7.98618740e-01  1.73396363e-01]\n",
            " [ 1.24158667e+00  1.42100806e-01]\n",
            " [ 1.32095145e+00  1.27915207e-01]\n",
            " [ 1.31211500e+00  2.26514990e-01]\n",
            " [ 1.18863133e+00 -2.17615377e-01]\n",
            " [ 1.18388167e+00  7.30346548e-02]\n",
            " [ 1.10062992e+00  5.13748700e-02]\n",
            " [ 7.32840064e-01 -2.01667852e-01]\n",
            " [ 1.26995787e+00  3.00830372e-01]\n",
            " [ 1.33367487e+00  6.51608079e-02]\n",
            " [ 1.08634441e+00 -1.06092346e-01]\n",
            " [ 1.06332236e+00 -8.68573465e-02]\n",
            " [ 1.12451466e+00 -2.94355544e-01]\n",
            " [ 1.25915966e+00 -1.33201192e-01]\n",
            " [ 1.17464556e+00 -1.40775294e-01]\n",
            " [ 9.33526935e-01 -4.60559297e-01]]\n"
          ],
          "name": "stdout"
        }
      ]
    },
    {
      "cell_type": "code",
      "metadata": {
        "colab": {
          "base_uri": "https://localhost:8080/"
        },
        "id": "DZ3NuU9D42gX",
        "outputId": "2f2e234e-2e5a-4f7b-b6f7-82fa97a36aa9"
      },
      "source": [
        "# Principal components\n",
        "print(model.components_)"
      ],
      "execution_count": null,
      "outputs": [
        {
          "output_type": "stream",
          "text": [
            "[[-0.64116665 -0.76740167]\n",
            " [-0.76740167  0.64116665]]\n"
          ],
          "name": "stdout"
        }
      ]
    },
    {
      "cell_type": "code",
      "metadata": {
        "id": "NdtkWkevv_Wv"
      },
      "source": [
        ""
      ],
      "execution_count": null,
      "outputs": []
    },
    {
      "cell_type": "markdown",
      "metadata": {
        "id": "uobMKAafG9_V"
      },
      "source": [
        "# **Intrinsic dimension**"
      ]
    },
    {
      "cell_type": "code",
      "metadata": {
        "id": "v5F8YSCqxEBm"
      },
      "source": [
        "from sklearn.datasets import load_iris\n",
        "import pandas as pd\n",
        "Iris = pd.read_csv('Iris.csv')\n",
        "samples = Iris.drop(['Id','Species','Species_2','PetalWidthCm'], axis=1).values\n",
        "#species = Iris['Species'].values\n",
        "species = Iris['Species_2'].values"
      ],
      "execution_count": null,
      "outputs": []
    },
    {
      "cell_type": "code",
      "metadata": {
        "colab": {
          "base_uri": "https://localhost:8080/"
        },
        "id": "ToSt4AU3k5pV",
        "outputId": "772ee76c-fb01-4bcd-cf63-1b6d8659be39"
      },
      "source": [
        "species"
      ],
      "execution_count": null,
      "outputs": [
        {
          "output_type": "execute_result",
          "data": {
            "text/plain": [
              "array([0, 0, 0, 0, 0, 0, 0, 0, 0, 0, 0, 0, 0, 0, 0, 0, 0, 0, 0, 0, 0, 0,\n",
              "       0, 0, 0, 0, 0, 0, 0, 0, 0, 0, 0, 0, 0, 0, 0, 0, 0, 0, 0, 0, 0, 0,\n",
              "       0, 0, 0, 0, 0, 0, 1, 1, 1, 1, 1, 1, 1, 1, 1, 1, 1, 1, 1, 1, 1, 1,\n",
              "       1, 1, 1, 1, 1, 1, 1, 1, 1, 1, 1, 1, 1, 1, 1, 1, 1, 1, 1, 1, 1, 1,\n",
              "       1, 1, 1, 1, 1, 1, 1, 1, 1, 1, 1, 1, 2, 2, 2, 2, 2, 2, 2, 2, 2, 2,\n",
              "       2, 2, 2, 2, 2, 2, 2, 2, 2, 2, 2, 2, 2, 2, 2, 2, 2, 2, 2, 2, 2, 2,\n",
              "       2, 2, 2, 2, 2, 2, 2, 2, 2, 2, 2, 2, 2, 2, 2, 2, 2, 2])"
            ]
          },
          "metadata": {
            "tags": []
          },
          "execution_count": 44
        }
      ]
    },
    {
      "cell_type": "code",
      "metadata": {
        "colab": {
          "base_uri": "https://localhost:8080/"
        },
        "id": "sG5YtuDCTvLb",
        "outputId": "b5bd90c1-eb9f-478b-8976-08bc9e82b057"
      },
      "source": [
        "samples"
      ],
      "execution_count": null,
      "outputs": [
        {
          "output_type": "execute_result",
          "data": {
            "text/plain": [
              "array([[5.1, 3.5, 1.4],\n",
              "       [4.9, 3. , 1.4],\n",
              "       [4.7, 3.2, 1.3],\n",
              "       [4.6, 3.1, 1.5],\n",
              "       [5. , 3.6, 1.4],\n",
              "       [5.4, 3.9, 1.7],\n",
              "       [4.6, 3.4, 1.4],\n",
              "       [5. , 3.4, 1.5],\n",
              "       [4.4, 2.9, 1.4],\n",
              "       [4.9, 3.1, 1.5],\n",
              "       [5.4, 3.7, 1.5],\n",
              "       [4.8, 3.4, 1.6],\n",
              "       [4.8, 3. , 1.4],\n",
              "       [4.3, 3. , 1.1],\n",
              "       [5.8, 4. , 1.2],\n",
              "       [5.7, 4.4, 1.5],\n",
              "       [5.4, 3.9, 1.3],\n",
              "       [5.1, 3.5, 1.4],\n",
              "       [5.7, 3.8, 1.7],\n",
              "       [5.1, 3.8, 1.5],\n",
              "       [5.4, 3.4, 1.7],\n",
              "       [5.1, 3.7, 1.5],\n",
              "       [4.6, 3.6, 1. ],\n",
              "       [5.1, 3.3, 1.7],\n",
              "       [4.8, 3.4, 1.9],\n",
              "       [5. , 3. , 1.6],\n",
              "       [5. , 3.4, 1.6],\n",
              "       [5.2, 3.5, 1.5],\n",
              "       [5.2, 3.4, 1.4],\n",
              "       [4.7, 3.2, 1.6],\n",
              "       [4.8, 3.1, 1.6],\n",
              "       [5.4, 3.4, 1.5],\n",
              "       [5.2, 4.1, 1.5],\n",
              "       [5.5, 4.2, 1.4],\n",
              "       [4.9, 3.1, 1.5],\n",
              "       [5. , 3.2, 1.2],\n",
              "       [5.5, 3.5, 1.3],\n",
              "       [4.9, 3.1, 1.5],\n",
              "       [4.4, 3. , 1.3],\n",
              "       [5.1, 3.4, 1.5],\n",
              "       [5. , 3.5, 1.3],\n",
              "       [4.5, 2.3, 1.3],\n",
              "       [4.4, 3.2, 1.3],\n",
              "       [5. , 3.5, 1.6],\n",
              "       [5.1, 3.8, 1.9],\n",
              "       [4.8, 3. , 1.4],\n",
              "       [5.1, 3.8, 1.6],\n",
              "       [4.6, 3.2, 1.4],\n",
              "       [5.3, 3.7, 1.5],\n",
              "       [5. , 3.3, 1.4],\n",
              "       [7. , 3.2, 4.7],\n",
              "       [6.4, 3.2, 4.5],\n",
              "       [6.9, 3.1, 4.9],\n",
              "       [5.5, 2.3, 4. ],\n",
              "       [6.5, 2.8, 4.6],\n",
              "       [5.7, 2.8, 4.5],\n",
              "       [6.3, 3.3, 4.7],\n",
              "       [4.9, 2.4, 3.3],\n",
              "       [6.6, 2.9, 4.6],\n",
              "       [5.2, 2.7, 3.9],\n",
              "       [5. , 2. , 3.5],\n",
              "       [5.9, 3. , 4.2],\n",
              "       [6. , 2.2, 4. ],\n",
              "       [6.1, 2.9, 4.7],\n",
              "       [5.6, 2.9, 3.6],\n",
              "       [6.7, 3.1, 4.4],\n",
              "       [5.6, 3. , 4.5],\n",
              "       [5.8, 2.7, 4.1],\n",
              "       [6.2, 2.2, 4.5],\n",
              "       [5.6, 2.5, 3.9],\n",
              "       [5.9, 3.2, 4.8],\n",
              "       [6.1, 2.8, 4. ],\n",
              "       [6.3, 2.5, 4.9],\n",
              "       [6.1, 2.8, 4.7],\n",
              "       [6.4, 2.9, 4.3],\n",
              "       [6.6, 3. , 4.4],\n",
              "       [6.8, 2.8, 4.8],\n",
              "       [6.7, 3. , 5. ],\n",
              "       [6. , 2.9, 4.5],\n",
              "       [5.7, 2.6, 3.5],\n",
              "       [5.5, 2.4, 3.8],\n",
              "       [5.5, 2.4, 3.7],\n",
              "       [5.8, 2.7, 3.9],\n",
              "       [6. , 2.7, 5.1],\n",
              "       [5.4, 3. , 4.5],\n",
              "       [6. , 3.4, 4.5],\n",
              "       [6.7, 3.1, 4.7],\n",
              "       [6.3, 2.3, 4.4],\n",
              "       [5.6, 3. , 4.1],\n",
              "       [5.5, 2.5, 4. ],\n",
              "       [5.5, 2.6, 4.4],\n",
              "       [6.1, 3. , 4.6],\n",
              "       [5.8, 2.6, 4. ],\n",
              "       [5. , 2.3, 3.3],\n",
              "       [5.6, 2.7, 4.2],\n",
              "       [5.7, 3. , 4.2],\n",
              "       [5.7, 2.9, 4.2],\n",
              "       [6.2, 2.9, 4.3],\n",
              "       [5.1, 2.5, 3. ],\n",
              "       [5.7, 2.8, 4.1],\n",
              "       [6.3, 3.3, 6. ],\n",
              "       [5.8, 2.7, 5.1],\n",
              "       [7.1, 3. , 5.9],\n",
              "       [6.3, 2.9, 5.6],\n",
              "       [6.5, 3. , 5.8],\n",
              "       [7.6, 3. , 6.6],\n",
              "       [4.9, 2.5, 4.5],\n",
              "       [7.3, 2.9, 6.3],\n",
              "       [6.7, 2.5, 5.8],\n",
              "       [7.2, 3.6, 6.1],\n",
              "       [6.5, 3.2, 5.1],\n",
              "       [6.4, 2.7, 5.3],\n",
              "       [6.8, 3. , 5.5],\n",
              "       [5.7, 2.5, 5. ],\n",
              "       [5.8, 2.8, 5.1],\n",
              "       [6.4, 3.2, 5.3],\n",
              "       [6.5, 3. , 5.5],\n",
              "       [7.7, 3.8, 6.7],\n",
              "       [7.7, 2.6, 6.9],\n",
              "       [6. , 2.2, 5. ],\n",
              "       [6.9, 3.2, 5.7],\n",
              "       [5.6, 2.8, 4.9],\n",
              "       [7.7, 2.8, 6.7],\n",
              "       [6.3, 2.7, 4.9],\n",
              "       [6.7, 3.3, 5.7],\n",
              "       [7.2, 3.2, 6. ],\n",
              "       [6.2, 2.8, 4.8],\n",
              "       [6.1, 3. , 4.9],\n",
              "       [6.4, 2.8, 5.6],\n",
              "       [7.2, 3. , 5.8],\n",
              "       [7.4, 2.8, 6.1],\n",
              "       [7.9, 3.8, 6.4],\n",
              "       [6.4, 2.8, 5.6],\n",
              "       [6.3, 2.8, 5.1],\n",
              "       [6.1, 2.6, 5.6],\n",
              "       [7.7, 3. , 6.1],\n",
              "       [6.3, 3.4, 5.6],\n",
              "       [6.4, 3.1, 5.5],\n",
              "       [6. , 3. , 4.8],\n",
              "       [6.9, 3.1, 5.4],\n",
              "       [6.7, 3.1, 5.6],\n",
              "       [6.9, 3.1, 5.1],\n",
              "       [5.8, 2.7, 5.1],\n",
              "       [6.8, 3.2, 5.9],\n",
              "       [6.7, 3.3, 5.7],\n",
              "       [6.7, 3. , 5.2],\n",
              "       [6.3, 2.5, 5. ],\n",
              "       [6.5, 3. , 5.2],\n",
              "       [6.2, 3.4, 5.4],\n",
              "       [5.9, 3. , 5.1]])"
            ]
          },
          "metadata": {
            "tags": []
          },
          "execution_count": 48
        }
      ]
    },
    {
      "cell_type": "code",
      "metadata": {
        "colab": {
          "base_uri": "https://localhost:8080/"
        },
        "id": "MRztJPL3G9_W",
        "outputId": "fc862728-1e3f-4615-c03b-e91675312ad0"
      },
      "source": [
        "# Plotting the variances of PCA features\n",
        "import matplotlib.pyplot as plt\n",
        "from sklearn.decomposition import PCA\n",
        "pca = PCA()\n",
        "pca.fit(samples)"
      ],
      "execution_count": null,
      "outputs": [
        {
          "output_type": "execute_result",
          "data": {
            "text/plain": [
              "PCA(copy=True, iterated_power='auto', n_components=None, random_state=None,\n",
              "    svd_solver='auto', tol=0.0, whiten=False)"
            ]
          },
          "metadata": {
            "tags": []
          },
          "execution_count": 45
        }
      ]
    },
    {
      "cell_type": "code",
      "metadata": {
        "id": "wK-wL7DSwl6x"
      },
      "source": [
        "features = range(pca.n_components_)"
      ],
      "execution_count": null,
      "outputs": []
    },
    {
      "cell_type": "code",
      "metadata": {
        "colab": {
          "base_uri": "https://localhost:8080/",
          "height": 279
        },
        "id": "N9-gsctvwqzg",
        "outputId": "85acebff-a080-45fd-8b00-d4c9b0399975"
      },
      "source": [
        "plt.bar(features, pca.explained_variance_)\n",
        "plt.xticks(features)\n",
        "plt.ylabel('variance')\n",
        "plt.xlabel('PCA feature')\n",
        "plt.show()"
      ],
      "execution_count": null,
      "outputs": [
        {
          "output_type": "display_data",
          "data": {
            "image/png": "[encoded data removed]",
            "text/plain": [
              "<Figure size 432x288 with 1 Axes>"
            ]
          },
          "metadata": {
            "tags": [],
            "needs_background": "light"
          }
        }
      ]
    },
    {
      "cell_type": "code",
      "metadata": {
        "colab": {
          "base_uri": "https://localhost:8080/"
        },
        "id": "ErHXhTEqkXCH",
        "outputId": "b8c388f3-2bd3-4945-f81d-d0138e55bfbe"
      },
      "source": [
        "from sklearn.decomposition import PCA\n",
        "pca = PCA(n_components=2)\n",
        "pca.fit(samples)"
      ],
      "execution_count": null,
      "outputs": [
        {
          "output_type": "execute_result",
          "data": {
            "text/plain": [
              "PCA(copy=True, iterated_power='auto', n_components=2, random_state=None,\n",
              "    svd_solver='auto', tol=0.0, whiten=False)"
            ]
          },
          "metadata": {
            "tags": []
          },
          "execution_count": 49
        }
      ]
    },
    {
      "cell_type": "code",
      "metadata": {
        "colab": {
          "base_uri": "https://localhost:8080/"
        },
        "id": "5Sjone_HkcE1",
        "outputId": "2fd133bb-9c67-4ebb-b1a0-224d88683099"
      },
      "source": [
        "transformed = pca.transform(samples)\n",
        "print(transformed.shape)"
      ],
      "execution_count": null,
      "outputs": [
        {
          "output_type": "stream",
          "text": [
            "(150, 2)\n"
          ],
          "name": "stdout"
        }
      ]
    },
    {
      "cell_type": "code",
      "metadata": {
        "colab": {
          "base_uri": "https://localhost:8080/"
        },
        "id": "at6CuNhCk_EU",
        "outputId": "6335b9d9-912c-4cf8-a40c-0a3c3bdd2b44"
      },
      "source": [
        "print(species.shape)"
      ],
      "execution_count": null,
      "outputs": [
        {
          "output_type": "stream",
          "text": [
            "(150,)\n"
          ],
          "name": "stdout"
        }
      ]
    },
    {
      "cell_type": "code",
      "metadata": {
        "colab": {
          "base_uri": "https://localhost:8080/",
          "height": 265
        },
        "id": "CqqAzsExkf2u",
        "outputId": "90bf91e5-17bb-474e-ef80-c1e67ea40be2"
      },
      "source": [
        "import matplotlib.pyplot as plt\n",
        "xs = transformed[:,0]\n",
        "ys = transformed[:,1]\n",
        "plt.scatter(xs, ys, c=species)\n",
        "plt.show()"
      ],
      "execution_count": null,
      "outputs": [
        {
          "output_type": "display_data",
          "data": {
            "image/png": "[encoded data removed]",
            "text/plain": [
              "<Figure size 432x288 with 1 Axes>"
            ]
          },
          "metadata": {
            "tags": [],
            "needs_background": "light"
          }
        }
      ]
    },
    {
      "cell_type": "markdown",
      "metadata": {
        "id": "_OA_83sDG9_X"
      },
      "source": [
        "# **333**"
      ]
    },
    {
      "cell_type": "code",
      "metadata": {
        "id": "z0sB41g3G9_Y"
      },
      "source": [
        ""
      ],
      "execution_count": null,
      "outputs": []
    },
    {
      "cell_type": "markdown",
      "metadata": {
        "id": "LpFBXZNcXl8A"
      },
      "source": [
        "# **444**"
      ]
    },
    {
      "cell_type": "code",
      "metadata": {
        "id": "cwjBlS0pXl8A"
      },
      "source": [
        ""
      ],
      "execution_count": null,
      "outputs": []
    },
    {
      "cell_type": "markdown",
      "metadata": {
        "id": "jNgPtbMTG9_Z"
      },
      "source": [
        "# **444**"
      ]
    },
    {
      "cell_type": "code",
      "metadata": {
        "id": "v1mNt_e0Xd83"
      },
      "source": [
        ""
      ],
      "execution_count": null,
      "outputs": []
    },
    {
      "cell_type": "markdown",
      "metadata": {
        "id": "HR-nMPRRXl8B"
      },
      "source": [
        "# **555**"
      ]
    },
    {
      "cell_type": "code",
      "metadata": {
        "id": "EpbGJMgJXl8B"
      },
      "source": [
        ""
      ],
      "execution_count": null,
      "outputs": []
    },
    {
      "cell_type": "markdown",
      "metadata": {
        "id": "Ki8qDB9vG2LT"
      },
      "source": [
        "# **555**"
      ]
    },
    {
      "cell_type": "code",
      "metadata": {
        "id": "f2DMyQAoXbVn"
      },
      "source": [
        ""
      ],
      "execution_count": null,
      "outputs": []
    },
    {
      "cell_type": "markdown",
      "metadata": {
        "id": "5WLkpfaBXl8B"
      },
      "source": [
        "# **666**"
      ]
    },
    {
      "cell_type": "code",
      "metadata": {
        "id": "pmnsH9-BXl8B"
      },
      "source": [
        ""
      ],
      "execution_count": null,
      "outputs": []
    },
    {
      "cell_type": "markdown",
      "metadata": {
        "id": "bSU9x-QkG2Lb"
      },
      "source": [
        "# **666**"
      ]
    },
    {
      "cell_type": "code",
      "metadata": {
        "id": "-FUa06CcXXe3"
      },
      "source": [
        ""
      ],
      "execution_count": null,
      "outputs": []
    },
    {
      "cell_type": "markdown",
      "metadata": {
        "id": "iEfGei7xXl8D"
      },
      "source": [
        "# **131313**"
      ]
    },
    {
      "cell_type": "code",
      "metadata": {
        "id": "unESvtJQXl8D"
      },
      "source": [
        ""
      ],
      "execution_count": null,
      "outputs": []
    },
    {
      "cell_type": "markdown",
      "metadata": {
        "id": "1Kqwq_OBG2Le"
      },
      "source": [
        "# **777**"
      ]
    },
    {
      "cell_type": "code",
      "metadata": {
        "id": "2Z6tx9JrXTdg"
      },
      "source": [
        ""
      ],
      "execution_count": null,
      "outputs": []
    },
    {
      "cell_type": "markdown",
      "metadata": {
        "id": "sErSM_kJXl8B"
      },
      "source": [
        "# **888**"
      ]
    },
    {
      "cell_type": "code",
      "metadata": {
        "id": "JGVUPcSEXl8C"
      },
      "source": [
        ""
      ],
      "execution_count": null,
      "outputs": []
    },
    {
      "cell_type": "markdown",
      "metadata": {
        "id": "-0XZrDWgG2Lf"
      },
      "source": [
        "# **888**"
      ]
    },
    {
      "cell_type": "code",
      "metadata": {
        "id": "hdRkXDFcXQAf"
      },
      "source": [
        ""
      ],
      "execution_count": null,
      "outputs": []
    },
    {
      "cell_type": "markdown",
      "metadata": {
        "id": "l-ydNP96Xl8B"
      },
      "source": [
        "# **777**"
      ]
    },
    {
      "cell_type": "code",
      "metadata": {
        "id": "ugqsDcAoXl8B"
      },
      "source": [
        ""
      ],
      "execution_count": null,
      "outputs": []
    },
    {
      "cell_type": "markdown",
      "metadata": {
        "id": "HKkBrDYnXl8C"
      },
      "source": [
        "# **999**"
      ]
    },
    {
      "cell_type": "code",
      "metadata": {
        "id": "7YQHvIQJXl8C"
      },
      "source": [
        ""
      ],
      "execution_count": null,
      "outputs": []
    },
    {
      "cell_type": "markdown",
      "metadata": {
        "id": "3267IqReXl8D"
      },
      "source": [
        "# **121212**"
      ]
    },
    {
      "cell_type": "code",
      "metadata": {
        "id": "Z5bqstkYXl8D"
      },
      "source": [
        ""
      ],
      "execution_count": null,
      "outputs": []
    },
    {
      "cell_type": "markdown",
      "metadata": {
        "id": "aq_XJkDaG2Lg"
      },
      "source": [
        "# **999**"
      ]
    },
    {
      "cell_type": "code",
      "metadata": {
        "id": "F7d-o-4CXKlo"
      },
      "source": [
        ""
      ],
      "execution_count": null,
      "outputs": []
    },
    {
      "cell_type": "markdown",
      "metadata": {
        "id": "1tbj-vJHXl8C"
      },
      "source": [
        "# **101010**"
      ]
    },
    {
      "cell_type": "code",
      "metadata": {
        "id": "DDuCRLuZXl8C"
      },
      "source": [
        ""
      ],
      "execution_count": null,
      "outputs": []
    },
    {
      "cell_type": "markdown",
      "metadata": {
        "id": "4adZagd-4Yc7"
      },
      "source": [
        "# **101010**"
      ]
    },
    {
      "cell_type": "code",
      "metadata": {
        "id": "Us9TmV2rXFwn"
      },
      "source": [
        ""
      ],
      "execution_count": null,
      "outputs": []
    },
    {
      "cell_type": "markdown",
      "metadata": {
        "id": "34tHWcLAXl8C"
      },
      "source": [
        "# **111111**"
      ]
    },
    {
      "cell_type": "code",
      "metadata": {
        "id": "Gi5F2dcgXl8D"
      },
      "source": [
        ""
      ],
      "execution_count": null,
      "outputs": []
    },
    {
      "cell_type": "markdown",
      "metadata": {
        "id": "cZhzShcZFFCL"
      },
      "source": [
        "# **111111**"
      ]
    },
    {
      "cell_type": "code",
      "metadata": {
        "id": "_j9J0kGbXBG4"
      },
      "source": [
        ""
      ],
      "execution_count": null,
      "outputs": []
    },
    {
      "cell_type": "markdown",
      "metadata": {
        "id": "gjLNL3qd8M-J"
      },
      "source": [
        "# **121212**"
      ]
    },
    {
      "cell_type": "code",
      "metadata": {
        "id": "_Zc0QrpsW84h"
      },
      "source": [
        ""
      ],
      "execution_count": null,
      "outputs": []
    },
    {
      "cell_type": "markdown",
      "metadata": {
        "id": "1b2kTNMrBt8E"
      },
      "source": [
        "# **131313**"
      ]
    },
    {
      "cell_type": "code",
      "metadata": {
        "id": "gmZm3MksEn9D"
      },
      "source": [
        ""
      ],
      "execution_count": null,
      "outputs": []
    },
    {
      "cell_type": "markdown",
      "metadata": {
        "id": "Iy30MVWQ5gyD"
      },
      "source": [
        "# **141414**"
      ]
    },
    {
      "cell_type": "code",
      "metadata": {
        "colab": {
          "base_uri": "https://localhost:8080/"
        },
        "id": "K29O9L9-F5nF",
        "outputId": "c9023cd4-c1be-4f68-92e2-1fee89f947df"
      },
      "source": [
        ""
      ],
      "execution_count": null,
      "outputs": [
        {
          "output_type": "execute_result",
          "data": {
            "text/plain": [
              "0.7112260057484923"
            ]
          },
          "metadata": {
            "tags": []
          },
          "execution_count": 31
        }
      ]
    },
    {
      "cell_type": "markdown",
      "metadata": {
        "id": "VrwdBuO1Xl8D"
      },
      "source": [
        "# **141414**"
      ]
    },
    {
      "cell_type": "code",
      "metadata": {
        "colab": {
          "base_uri": "https://localhost:8080/"
        },
        "id": "zUmAZjwnXl8D",
        "outputId": "c9023cd4-c1be-4f68-92e2-1fee89f947df"
      },
      "source": [
        ""
      ],
      "execution_count": null,
      "outputs": [
        {
          "output_type": "execute_result",
          "data": {
            "text/plain": [
              "0.7112260057484923"
            ]
          },
          "metadata": {
            "tags": []
          },
          "execution_count": 31
        }
      ]
    }
  ]
}