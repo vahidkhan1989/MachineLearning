{
  "nbformat": 4,
  "nbformat_minor": 0,
  "metadata": {
    "colab": {
      "name": "Copy of Machine Learning with Tree-Based Models.ipynb",
      "provenance": [],
      "collapsed_sections": [
        "Ki8qDB9vG2LT",
        "l-ydNP96Xl8B",
        "HKkBrDYnXl8C",
        "3267IqReXl8D",
        "aq_XJkDaG2Lg",
        "1tbj-vJHXl8C",
        "4adZagd-4Yc7",
        "34tHWcLAXl8C",
        "cZhzShcZFFCL",
        "gjLNL3qd8M-J",
        "1b2kTNMrBt8E",
        "Iy30MVWQ5gyD",
        "VrwdBuO1Xl8D"
      ]
    },
    "kernelspec": {
      "display_name": "Python 3",
      "name": "python3"
    },
    "language_info": {
      "name": "python"
    }
  },
  "cells": [
    {
      "cell_type": "markdown",
      "metadata": {
        "id": "_OA_83sDG9_X"
      },
      "source": [
        "# **Decision-Tree for Classification**"
      ]
    },
    {
      "cell_type": "code",
      "metadata": {
        "id": "z0sB41g3G9_Y"
      },
      "source": [
        "from sklearn.datasets import load_iris\n",
        "import pandas as pd\n",
        "Cancer = pd.read_csv('Cancer.csv')\n",
        "X = Cancer[['radius_mean','concave points_mean']].values\n",
        "y = Cancer['diagnosis'].values"
      ],
      "execution_count": null,
      "outputs": []
    },
    {
      "cell_type": "code",
      "metadata": {
        "id": "GXh9yE4NMHud"
      },
      "source": [
        "# Import DecisionTreeClassifier\n",
        "from sklearn.tree import DecisionTreeClassifier\n",
        "# Import train_test_split\n",
        "from sklearn.model_selection import train_test_split\n",
        "# Import accuracy_score\n",
        "from sklearn.metrics import accuracy_score\n",
        "# Split the dataset into 80% train, 20% test\n",
        "X_train, X_test, y_train, y_test= train_test_split(X, y, test_size=0.2, stratify=y, random_state=1)\n",
        "# Instantiate dt\n",
        "dt = DecisionTreeClassifier(max_depth=2, random_state=1)"
      ],
      "execution_count": null,
      "outputs": []
    },
    {
      "cell_type": "code",
      "metadata": {
        "colab": {
          "base_uri": "https://localhost:8080/"
        },
        "id": "c2SQy6hxRmfH",
        "outputId": "e2c9c6e0-95a7-4ded-b857-d739e1c5d499"
      },
      "source": [
        "# Fit dt to the training set\n",
        "dt.fit(X_train,y_train)\n",
        "# Predict the test set labels\n",
        "y_pred = dt.predict(X_test)\n",
        "# Evaluate the test-set accuracy\n",
        "accuracy_score(y_test, y_pred)"
      ],
      "execution_count": null,
      "outputs": [
        {
          "output_type": "execute_result",
          "data": {
            "text/plain": [
              "0.9035087719298246"
            ]
          },
          "metadata": {
            "tags": []
          },
          "execution_count": 13
        }
      ]
    },
    {
      "cell_type": "markdown",
      "metadata": {
        "id": "LpFBXZNcXl8A"
      },
      "source": [
        "# **Classification-Tree Learning**"
      ]
    },
    {
      "cell_type": "code",
      "metadata": {
        "id": "cwjBlS0pXl8A"
      },
      "source": [
        "# Import DecisionTreeClassifier\n",
        "from sklearn.tree import DecisionTreeClassifier\n",
        "# Import train_test_split\n",
        "from sklearn.model_selection import train_test_split\n",
        "# Import accuracy_score\n",
        "from sklearn.metrics import accuracy_score\n",
        "# Split dataset into 80% train, 20% test\n",
        "X_train, X_test, y_train, y_test= train_test_split(X, y, test_size=0.2, stratify=y, random_state=1)\n",
        "# Instantiate dt, set 'criterion' to 'gini'\n",
        "dt = DecisionTreeClassifier(criterion='gini', random_state=1)"
      ],
      "execution_count": null,
      "outputs": []
    },
    {
      "cell_type": "code",
      "metadata": {
        "colab": {
          "base_uri": "https://localhost:8080/"
        },
        "id": "mRdEbmhdR-wd",
        "outputId": "bf9f9b0d-5b1f-4748-d5d8-c8a3a7491f5d"
      },
      "source": [
        "# Fit dt to the training set\n",
        "dt.fit(X_train,y_train)\n",
        "# Predict test-set labels\n",
        "y_pred= dt.predict(X_test)\n",
        "# Evaluate test-set accuracy\n",
        "accuracy_score(y_test, y_pred)"
      ],
      "execution_count": null,
      "outputs": [
        {
          "output_type": "execute_result",
          "data": {
            "text/plain": [
              "0.9210526315789473"
            ]
          },
          "metadata": {
            "tags": []
          },
          "execution_count": 5
        }
      ]
    },
    {
      "cell_type": "markdown",
      "metadata": {
        "id": "jNgPtbMTG9_Z"
      },
      "source": [
        "# **Decision-Tree for Regression**"
      ]
    },
    {
      "cell_type": "code",
      "metadata": {
        "id": "v1mNt_e0Xd83"
      },
      "source": [
        "import pandas as pd\n",
        "Auto = pd.read_csv('auto.csv')\n",
        "X = Auto['displ'].values.reshape(-1, 1)\n",
        "y = Auto['mpg'].values.reshape(-1, 1)\n",
        "#.reshape(-1, 1)"
      ],
      "execution_count": null,
      "outputs": []
    },
    {
      "cell_type": "code",
      "metadata": {
        "id": "5oDsVLeNUH3T"
      },
      "source": [
        "# Import DecisionTreeRegressor\n",
        "from sklearn.tree import DecisionTreeRegressor\n",
        "# Import train_test_split\n",
        "from sklearn.model_selection import train_test_split\n",
        "# Import mean_squared_error as MSE\n",
        "from sklearn.metrics import mean_squared_error as MSE\n",
        "# Split data into 80% train and 20% test\n",
        "X_train, X_test, y_train, y_test= train_test_split(X, y, test_size=0.2, random_state=3)\n",
        "# Instantiate a DecisionTreeRegressor 'dt'\n",
        "dt = DecisionTreeRegressor(max_depth=4, min_samples_leaf=0.1, random_state=3)"
      ],
      "execution_count": null,
      "outputs": []
    },
    {
      "cell_type": "code",
      "metadata": {
        "colab": {
          "base_uri": "https://localhost:8080/"
        },
        "id": "AVEROYVqUZjt",
        "outputId": "aa31064e-4617-4f24-e53b-f2bcd4815dcf"
      },
      "source": [
        "# Fit 'dt' to the training-set\n",
        "dt.fit(X_train, y_train)\n",
        "# Predict test-set labels\n",
        "y_pred = dt.predict(X_test)\n",
        "# Compute test-set MSE\n",
        "mse_dt = MSE(y_test, y_pred)\n",
        "# Compute test-set RMSE\n",
        "rmse_dt = mse_dt**(1/2)\n",
        "# Print rmse_dt\n",
        "print(rmse_dt)"
      ],
      "execution_count": null,
      "outputs": [
        {
          "output_type": "stream",
          "text": [
            "5.102306888903137\n"
          ],
          "name": "stdout"
        }
      ]
    },
    {
      "cell_type": "markdown",
      "metadata": {
        "id": "HR-nMPRRXl8B"
      },
      "source": [
        "# **Diagnosing Bias and Variance Problems**"
      ]
    },
    {
      "cell_type": "code",
      "metadata": {
        "id": "EpbGJMgJXl8B"
      },
      "source": [
        "from sklearn.tree import DecisionTreeRegressor\n",
        "from sklearn.model_selection import train_test_split\n",
        "from sklearn.metrics import mean_squared_error as MSE\n",
        "from sklearn.model_selection import cross_val_score\n",
        "# Set seed for reproducibility\n",
        "SEED = 123\n",
        "# Split data into 70% train and 30% test\n",
        "X_train, X_test, y_train, y_test = train_test_split(X,y, test_size=0.3, random_state=SEED)\n",
        "# Instantiate decision tree regressor and assign it to 'dt'\n",
        "dt = DecisionTreeRegressor(max_depth=4, min_samples_leaf=0.14, random_state=SEED)"
      ],
      "execution_count": null,
      "outputs": []
    },
    {
      "cell_type": "code",
      "metadata": {
        "id": "8dtJVvwglUXe"
      },
      "source": [
        "# Evaluate the list of MSE ontained by 10-fold CV\n",
        "# Set n_jobs to -1 in order to exploit all CPU cores in computation\n",
        "MSE_CV = - cross_val_score(dt, X_train, y_train, cv= 10, scoring='neg_mean_squared_error', n_jobs = -1)\n",
        "# Fit 'dt' to the training set\n",
        "dt.fit(X_train, y_train)\n",
        "# Predict the labels of training set\n",
        "y_predict_train = dt.predict(X_train)\n",
        "# Predict the labels of test set\n",
        "y_predict_test = dt.predict(X_test)"
      ],
      "execution_count": null,
      "outputs": []
    },
    {
      "cell_type": "code",
      "metadata": {
        "colab": {
          "base_uri": "https://localhost:8080/"
        },
        "id": "dh7cH2pylfbU",
        "outputId": "ff3cace1-36a9-45f0-9d2c-50367a75e079"
      },
      "source": [
        "# CV MSE\n",
        "print('CV MSE: {:.2f}'.format(MSE_CV.mean()))"
      ],
      "execution_count": null,
      "outputs": [
        {
          "output_type": "stream",
          "text": [
            "CV MSE: 19.94\n"
          ],
          "name": "stdout"
        }
      ]
    },
    {
      "cell_type": "code",
      "metadata": {
        "colab": {
          "base_uri": "https://localhost:8080/"
        },
        "id": "vujlL0z6lmYN",
        "outputId": "ec707d23-436e-4b71-b8f0-a119d5c41988"
      },
      "source": [
        "# Training set MSE\n",
        "print('Train MSE: {:.2f}'.format(MSE(y_train, y_predict_train)))"
      ],
      "execution_count": null,
      "outputs": [
        {
          "output_type": "stream",
          "text": [
            "Train MSE: 17.89\n"
          ],
          "name": "stdout"
        }
      ]
    },
    {
      "cell_type": "code",
      "metadata": {
        "colab": {
          "base_uri": "https://localhost:8080/"
        },
        "id": "ozU-BfBZlres",
        "outputId": "2b827652-1023-49d0-b525-fe6f58c95755"
      },
      "source": [
        "# Test set MSE\n",
        "print('Test MSE: {:.2f}'.format(MSE(y_test, y_predict_test)))"
      ],
      "execution_count": null,
      "outputs": [
        {
          "output_type": "stream",
          "text": [
            "Test MSE: 20.41\n"
          ],
          "name": "stdout"
        }
      ]
    },
    {
      "cell_type": "markdown",
      "metadata": {
        "id": "Ki8qDB9vG2LT"
      },
      "source": [
        "# **Ensemble Learning**"
      ]
    },
    {
      "cell_type": "code",
      "metadata": {
        "id": "f2DMyQAoXbVn"
      },
      "source": [
        "import pandas as pd\n",
        "Cancer = pd.read_csv('Cancer.csv')\n",
        "X = Cancer[['radius_mean','concave points_mean','symmetry_mean']].values\n",
        "y = Cancer['diagnosis'].values"
      ],
      "execution_count": null,
      "outputs": []
    },
    {
      "cell_type": "code",
      "metadata": {
        "id": "c7TSZxzApwWm"
      },
      "source": [
        "# Import functions to compute accuracy and split data\n",
        "from sklearn.metrics import accuracy_score\n",
        "from sklearn.model_selection import train_test_split\n",
        "# Import models, including VotingClassifier meta-model\n",
        "from sklearn.linear_model import LogisticRegression\n",
        "from sklearn.tree import DecisionTreeClassifier\n",
        "from sklearn.neighbors import KNeighborsClassifier as KNN\n",
        "from sklearn.ensemble import VotingClassifier\n",
        "# Set seed for reproducibility\n",
        "SEED = 1"
      ],
      "execution_count": null,
      "outputs": []
    },
    {
      "cell_type": "code",
      "metadata": {
        "id": "et_89ZFLp2e_"
      },
      "source": [
        "# Split data into 70% train and 30% test\n",
        "X_train, X_test, y_train, y_test = train_test_split(X, y, test_size= 0.3, random_state= SEED)\n",
        "# Instantiate individual classifiers\n",
        "lr = LogisticRegression(random_state=SEED)\n",
        "knn = KNN()\n",
        "dt = DecisionTreeClassifier(random_state=SEED)\n",
        "# Define a list called classifier that contains the tuples (classifier_name, classifier)\n",
        "classifiers = [('Logistic Regression', lr)  ,\n",
        "               ('K Nearest Neighbours', knn),\n",
        "               ('Classification Tree', dt)  ]"
      ],
      "execution_count": null,
      "outputs": []
    },
    {
      "cell_type": "code",
      "metadata": {
        "colab": {
          "base_uri": "https://localhost:8080/"
        },
        "id": "2ck_vRumqJal",
        "outputId": "5268d37b-1699-4e7c-d149-c216507d3f87"
      },
      "source": [
        "# Iterate over the defined list of tuples containing the classifiers\n",
        "for clf_name, clf in classifiers:\n",
        "#fit clf to the training set\n",
        "  clf.fit(X_train, y_train)\n",
        "  # Predict the labels of the test set\n",
        "  y_pred = clf.predict(X_test)\n",
        "  # Evaluate the accuracy of clf on the test set\n",
        "  print('{:s} : {:.3f}'.format(clf_name, accuracy_score(y_test, y_pred)))"
      ],
      "execution_count": null,
      "outputs": [
        {
          "output_type": "stream",
          "text": [
            "Logistic Regression : 0.901\n",
            "K Nearest Neighbours : 0.930\n",
            "Classification Tree : 0.918\n"
          ],
          "name": "stdout"
        }
      ]
    },
    {
      "cell_type": "code",
      "metadata": {
        "colab": {
          "base_uri": "https://localhost:8080/"
        },
        "id": "lmAzinijrF1A",
        "outputId": "c3abff56-459a-45cc-d1fb-c206add3e1a8"
      },
      "source": [
        "# Instantiate a VotingClassifier 'vc'\n",
        "vc = VotingClassifier(estimators=classifiers)\n",
        "# Fit 'vc' to the traing set and predict test set labels\n",
        "vc.fit(X_train, y_train)\n",
        "y_pred = vc.predict(X_test)\n",
        "# Evaluate the test-set accuracy of 'vc'\n",
        "print('Voting Classifier: {:.3f}'.format(accuracy_score(y_test, y_pred)))"
      ],
      "execution_count": null,
      "outputs": [
        {
          "output_type": "stream",
          "text": [
            "Voting Classifier: 0.930\n"
          ],
          "name": "stdout"
        }
      ]
    },
    {
      "cell_type": "markdown",
      "metadata": {
        "id": "5WLkpfaBXl8B"
      },
      "source": [
        "# **Bagging**"
      ]
    },
    {
      "cell_type": "code",
      "metadata": {
        "id": "pmnsH9-BXl8B"
      },
      "source": [
        "# Import models and utility functions\n",
        "from sklearn.ensemble import BaggingClassifier\n",
        "from sklearn.tree import DecisionTreeClassifier\n",
        "from sklearn.metrics import accuracy_score\n",
        "from sklearn.model_selection import train_test_split\n",
        "# Set seed for reproducibility\n",
        "SEED = 1\n",
        "# Split data into 70% train and 30% test\n",
        "X_train, X_test, y_train, y_test = train_test_split(X, y, test_size=0.3,stratify=y,random_state=SEED)"
      ],
      "execution_count": null,
      "outputs": []
    },
    {
      "cell_type": "code",
      "metadata": {
        "colab": {
          "base_uri": "https://localhost:8080/"
        },
        "id": "GiTITscQxS3X",
        "outputId": "bf05e9ac-7c36-467b-c948-43db2e1a9ef0"
      },
      "source": [
        "# Instantiate a classification-tree 'dt'\n",
        "dt = DecisionTreeClassifier(max_depth=4, min_samples_leaf=0.16, random_state=SEED)\n",
        "# Instantiate a BaggingClassifier 'bc'\n",
        "bc = BaggingClassifier(base_estimator=dt, n_estimators=300, n_jobs=-1)\n",
        "# Fit 'bc' to the training set\n",
        "bc.fit(X_train, y_train)\n",
        "# Predict test set labels\n",
        "y_pred = bc.predict(X_test)\n",
        "# Evaluate and print test-set accuracy\n",
        "accuracy = accuracy_score(y_test, y_pred)\n",
        "print('Accuracy of Bagging Classifier: {:.3f}'.format(accuracy))"
      ],
      "execution_count": null,
      "outputs": [
        {
          "output_type": "stream",
          "text": [
            "Accuracy of Bagging Classifier: 0.877\n"
          ],
          "name": "stdout"
        }
      ]
    },
    {
      "cell_type": "markdown",
      "metadata": {
        "id": "bSU9x-QkG2Lb"
      },
      "source": [
        "# **Out Of Bag Evaluation**"
      ]
    },
    {
      "cell_type": "code",
      "metadata": {
        "id": "-FUa06CcXXe3"
      },
      "source": [
        "# Import models and split utility function\n",
        "from sklearn.ensemble import BaggingClassifier\n",
        "from sklearn.tree import DecisionTreeClassifier\n",
        "from sklearn.metrics import accuracy_score\n",
        "from sklearn.model_selection import train_test_split\n",
        "# Set seed for reproducibility\n",
        "SEED = 1\n",
        "# Split data into 70% train and 30% test\n",
        "X_train, X_test, y_train, y_test = train_test_split(X, y, test_size= 0.3, stratify= y, random_state=SEED)"
      ],
      "execution_count": null,
      "outputs": []
    },
    {
      "cell_type": "code",
      "metadata": {
        "id": "pAtdW7NhxxlV"
      },
      "source": [
        "# Instantiate a classification-tree 'dt'\n",
        "dt = DecisionTreeClassifier(max_depth=4, min_samples_leaf=0.16, random_state=SEED)\n",
        "# Instantiate a BaggingClassifier 'bc'; set oob_score = True\n",
        "bc = BaggingClassifier(base_estimator=dt, n_estimators=300, oob_score=True, n_jobs=-1)\n",
        "# Fit 'bc' to the training set\n",
        "bc.fit(X_train, y_train)\n",
        "# Predict the test set labels\n",
        "y_pred = bc.predict(X_test)"
      ],
      "execution_count": null,
      "outputs": []
    },
    {
      "cell_type": "code",
      "metadata": {
        "colab": {
          "base_uri": "https://localhost:8080/"
        },
        "id": "ZBYTZI-ax7jG",
        "outputId": "d33c338f-487f-4d9e-bf77-812d279bb01b"
      },
      "source": [
        "# Evaluate test set accuracy\n",
        "test_accuracy = accuracy_score(y_test, y_pred)\n",
        "# Extract the OOB accuracy from 'bc'\n",
        "oob_accuracy = bc.oob_score_\n",
        "# Print test set accuracy\n",
        "print('Test set accuracy: {:.3f}'.format(test_accuracy))"
      ],
      "execution_count": null,
      "outputs": [
        {
          "output_type": "stream",
          "text": [
            "Test set accuracy: 0.895\n"
          ],
          "name": "stdout"
        }
      ]
    },
    {
      "cell_type": "code",
      "metadata": {
        "colab": {
          "base_uri": "https://localhost:8080/"
        },
        "id": "UQxaYITyx-sM",
        "outputId": "3c57da3c-6867-43e9-e9dd-fa6a5c06d649"
      },
      "source": [
        "# Print OOB accuracy\n",
        "print('OOB accuracy: {:.3f}'.format(oob_accuracy))"
      ],
      "execution_count": null,
      "outputs": [
        {
          "output_type": "stream",
          "text": [
            "OOB accuracy: 0.915\n"
          ],
          "name": "stdout"
        }
      ]
    },
    {
      "cell_type": "markdown",
      "metadata": {
        "id": "iEfGei7xXl8D"
      },
      "source": [
        "# **Random Forests**"
      ]
    },
    {
      "cell_type": "code",
      "metadata": {
        "id": "unESvtJQXl8D"
      },
      "source": [
        "import pandas as pd\n",
        "Auto = pd.read_csv('auto.csv')\n",
        "X = Auto['displ'].values.reshape(-1, 1)\n",
        "y = Auto['mpg'].values.reshape(-1, 1)\n",
        "#.reshape(-1, 1)"
      ],
      "execution_count": null,
      "outputs": []
    },
    {
      "cell_type": "code",
      "metadata": {
        "id": "ruWsGpeMy5Tx"
      },
      "source": [
        "# Basic imports\n",
        "from sklearn.ensemble import RandomForestRegressor\n",
        "from sklearn.model_selection import train_test_split\n",
        "from sklearn.metrics import mean_squared_error as MSE\n",
        "# Set seed for reproducibility\n",
        "SEED = 1\n",
        "# Split dataset into 70% train and 30% test\n",
        "X_train, X_test, y_train, y_test = train_test_split(X, y, test_size=0.3, random_state=SEED)"
      ],
      "execution_count": null,
      "outputs": []
    },
    {
      "cell_type": "code",
      "metadata": {
        "colab": {
          "base_uri": "https://localhost:8080/"
        },
        "id": "WrxvC5KBzBMY",
        "outputId": "ea9b5936-8e7b-42ce-eb6f-47bfca603298"
      },
      "source": [
        "# Instantiate a random forests regressor 'rf' 400 estimators\n",
        "rf = RandomForestRegressor(n_estimators=400, min_samples_leaf=0.12, random_state=SEED)\n",
        "# Fit 'rf' to the training set\n",
        "rf.fit(X_train, y_train)\n",
        "# Predict the test set labels 'y_pred'\n",
        "y_pred = rf.predict(X_test)"
      ],
      "execution_count": null,
      "outputs": [
        {
          "output_type": "stream",
          "text": [
            "/usr/local/lib/python3.7/dist-packages/ipykernel_launcher.py:4: DataConversionWarning: A column-vector y was passed when a 1d array was expected. Please change the shape of y to (n_samples,), for example using ravel().\n",
            "  after removing the cwd from sys.path.\n"
          ],
          "name": "stderr"
        }
      ]
    },
    {
      "cell_type": "code",
      "metadata": {
        "colab": {
          "base_uri": "https://localhost:8080/"
        },
        "id": "KsDpwo2HzKnX",
        "outputId": "6bda24e1-b5aa-4418-e371-5f42d9a783ac"
      },
      "source": [
        "# Evaluate the test set RMSE\n",
        "rmse_test = MSE(y_test, y_pred)**(1/2)\n",
        "# Print the test set RMSE\n",
        "print('Test set RMSE of rf: {:.2f}'.format(rmse_test))"
      ],
      "execution_count": null,
      "outputs": [
        {
          "output_type": "stream",
          "text": [
            "Test set RMSE of rf: 4.16\n"
          ],
          "name": "stdout"
        }
      ]
    },
    {
      "cell_type": "markdown",
      "metadata": {
        "id": "1Kqwq_OBG2Le"
      },
      "source": [
        "# **AdaBoost**"
      ]
    },
    {
      "cell_type": "code",
      "metadata": {
        "id": "92DCzk8S1Ckh"
      },
      "source": [
        "from sklearn.datasets import load_iris\n",
        "import pandas as pd\n",
        "Cancer = pd.read_csv('Cancer.csv')\n",
        "X = Cancer[['radius_mean','concave points_mean']].values\n",
        "y = Cancer['diagnosis'].values"
      ],
      "execution_count": null,
      "outputs": []
    },
    {
      "cell_type": "code",
      "metadata": {
        "id": "2Z6tx9JrXTdg"
      },
      "source": [
        "# Import models and utility functions\n",
        "from sklearn.ensemble import AdaBoostClassifier\n",
        "from sklearn.tree import DecisionTreeClassifier\n",
        "from sklearn.metrics import roc_auc_score\n",
        "from sklearn.model_selection import train_test_split\n",
        "# Set seed for reproducibility\n",
        "SEED = 1\n",
        "# Split data into 70% train and 30% test\n",
        "X_train, X_test, y_train, y_test = train_test_split(X, y, test_size=0.3, stratify=y, random_state=SEED)"
      ],
      "execution_count": null,
      "outputs": []
    },
    {
      "cell_type": "code",
      "metadata": {
        "id": "3x5XoJt61NDO"
      },
      "source": [
        "# Instantiate a classification-tree 'dt'\n",
        "dt = DecisionTreeClassifier(max_depth=1, random_state=SEED)\n",
        "# Instantiate an AdaBoost classifier 'adab_clf'\n",
        "adb_clf = AdaBoostClassifier(base_estimator=dt, n_estimators=100)\n",
        "# Fit 'adb_clf' to the training set\n",
        "adb_clf.fit(X_train, y_train)\n",
        "# Predict the test set probabilities of positive class\n",
        "y_pred_proba = adb_clf.predict_proba(X_test)[:,1]\n",
        "# Evaluate test-set roc_auc_score\n",
        "adb_clf_roc_auc_score = roc_auc_score(y_test, y_pred_proba)"
      ],
      "execution_count": null,
      "outputs": []
    },
    {
      "cell_type": "code",
      "metadata": {
        "colab": {
          "base_uri": "https://localhost:8080/"
        },
        "id": "Wp_85c9d1R8C",
        "outputId": "996038e2-6338-4841-8ab1-a69dfe8cca74"
      },
      "source": [
        "# Print adb_clf_roc_auc_score\n",
        "print('ROC AUC score: {:.2f}'.format(adb_clf_roc_auc_score))"
      ],
      "execution_count": null,
      "outputs": [
        {
          "output_type": "stream",
          "text": [
            "ROC AUC score: 0.96\n"
          ],
          "name": "stdout"
        }
      ]
    },
    {
      "cell_type": "markdown",
      "metadata": {
        "id": "sErSM_kJXl8B"
      },
      "source": [
        "# **Gradient Boosting (GB)**"
      ]
    },
    {
      "cell_type": "code",
      "metadata": {
        "id": "JGVUPcSEXl8C"
      },
      "source": [
        "import pandas as pd\n",
        "Auto = pd.read_csv('auto.csv')\n",
        "X = Auto['displ'].values.reshape(-1, 1)\n",
        "y = Auto['mpg'].values.reshape(-1, 1)\n",
        "#.reshape(-1, 1)"
      ],
      "execution_count": null,
      "outputs": []
    },
    {
      "cell_type": "code",
      "metadata": {
        "id": "kHxFLd_A1hFG"
      },
      "source": [
        "# Import models and utility functions\n",
        "from sklearn.ensemble import GradientBoostingRegressor\n",
        "from sklearn.model_selection import train_test_split\n",
        "from sklearn.metrics import mean_squared_error as MSE\n",
        "# Set seed for reproducibility\n",
        "SEED = 1\n",
        "# Split dataset into 70% train and 30% test\n",
        "X_train, X_test, y_train, y_test = train_test_split(X,y, test_size=0.3, random_state=SEED)"
      ],
      "execution_count": null,
      "outputs": []
    },
    {
      "cell_type": "code",
      "metadata": {
        "colab": {
          "base_uri": "https://localhost:8080/"
        },
        "id": "XYUkWFv51p0X",
        "outputId": "393bdb2e-4327-42a0-be72-ffe7115eb4ad"
      },
      "source": [
        "# Instantiate a GradientBoostingRegressor 'gbt'\n",
        "gbt = GradientBoostingRegressor(n_estimators=300, max_depth=1, random_state=SEED)\n",
        "# Fit 'gbt' to the training set\n",
        "gbt.fit(X_train, y_train)\n",
        "# Predict the test set labels\n",
        "y_pred = gbt.predict(X_test)\n",
        "# Evaluate the test set RMSE\n",
        "rmse_test = MSE(y_test, y_pred)**(1/2)\n",
        "# Print the test set RMSE\n",
        "print('Test set RMSE: {:.2f}'.format(rmse_test))"
      ],
      "execution_count": null,
      "outputs": [
        {
          "output_type": "stream",
          "text": [
            "Test set RMSE: 4.37\n"
          ],
          "name": "stdout"
        },
        {
          "output_type": "stream",
          "text": [
            "/usr/local/lib/python3.7/dist-packages/sklearn/ensemble/_gb.py:1454: DataConversionWarning: A column-vector y was passed when a 1d array was expected. Please change the shape of y to (n_samples, ), for example using ravel().\n",
            "  y = column_or_1d(y, warn=True)\n"
          ],
          "name": "stderr"
        }
      ]
    },
    {
      "cell_type": "markdown",
      "metadata": {
        "id": "-0XZrDWgG2Lf"
      },
      "source": [
        "# **Stochastic Gradient Boosting (SGB)**"
      ]
    },
    {
      "cell_type": "code",
      "metadata": {
        "id": "hdRkXDFcXQAf"
      },
      "source": [
        "# Import models and utility functions\n",
        "from sklearn.ensemble import GradientBoostingRegressor\n",
        "from sklearn.model_selection import train_test_split\n",
        "from sklearn.metrics import mean_squared_error as MSE\n",
        "# Set seed for reproducibility\n",
        "SEED = 1\n",
        "# Split dataset into 70% train and 30% test\n",
        "X_train, X_test, y_train, y_test = train_test_split(X,y,\n",
        "test_size=0.3,\n",
        "random_state=SEED)"
      ],
      "execution_count": null,
      "outputs": []
    },
    {
      "cell_type": "code",
      "metadata": {
        "colab": {
          "base_uri": "https://localhost:8080/"
        },
        "id": "6LXGNi9a2WtB",
        "outputId": "5de062db-ae78-4ef6-c044-f8bb6b09126f"
      },
      "source": [
        "# Instantiate a stochastic GradientBoostingRegressor 'sgbt'\n",
        "sgbt = GradientBoostingRegressor(max_depth=1,subsample=0.8,max_features=0.2,\n",
        "n_estimators=300,\n",
        "random_state=SEED)\n",
        "# Fit 'sgbt' to the training set\n",
        "sgbt.fit(X_train, y_train)\n",
        "# Predict the test set labels\n",
        "y_pred = sgbt.predict(X_test)"
      ],
      "execution_count": null,
      "outputs": [
        {
          "output_type": "stream",
          "text": [
            "/usr/local/lib/python3.7/dist-packages/sklearn/ensemble/_gb.py:1454: DataConversionWarning: A column-vector y was passed when a 1d array was expected. Please change the shape of y to (n_samples, ), for example using ravel().\n",
            "  y = column_or_1d(y, warn=True)\n"
          ],
          "name": "stderr"
        }
      ]
    },
    {
      "cell_type": "code",
      "metadata": {
        "colab": {
          "base_uri": "https://localhost:8080/"
        },
        "id": "mRWrzgeo2bso",
        "outputId": "ebc59d74-b010-4440-a994-caab365323b3"
      },
      "source": [
        "# Evaluate test set RMSE 'rmse_test'\n",
        "rmse_test = MSE(y_test, y_pred)**(1/2)\n",
        "# Print 'rmse_test'\n",
        "print('Test set RMSE: {:.2f}'.format(rmse_test))"
      ],
      "execution_count": null,
      "outputs": [
        {
          "output_type": "stream",
          "text": [
            "Test set RMSE: 4.43\n"
          ],
          "name": "stdout"
        }
      ]
    },
    {
      "cell_type": "markdown",
      "metadata": {
        "id": "l-ydNP96Xl8B"
      },
      "source": [
        "# **Using XGBoost: a quick example**"
      ]
    },
    {
      "cell_type": "code",
      "metadata": {
        "id": "CYOWD-XJGGSX"
      },
      "source": [
        "from sklearn.datasets import load_iris\n",
        "import pandas as pd\n",
        "Cancer = pd.read_csv('Cancer.csv')\n",
        "X = Cancer[['radius_mean','concave points_mean']].values\n",
        "y = Cancer['diagnosis'].values"
      ],
      "execution_count": null,
      "outputs": []
    },
    {
      "cell_type": "code",
      "metadata": {
        "id": "ugqsDcAoXl8B",
        "colab": {
          "base_uri": "https://localhost:8080/"
        },
        "outputId": "ef74cd2f-a8fa-4761-a673-e6d04d21cea2"
      },
      "source": [
        "import xgboost as xgb\n",
        "import pandas as pd\n",
        "import numpy as np\n",
        "from sklearn.model_selection import train_test_split\n",
        "X_train, X_test, y_train, y_test= train_test_split(X, y,test_size=0.2, random_state=123)\n",
        "xg_cl = xgb.XGBClassifier(objective='binary:logistic',n_estimators=10, seed=123)\n",
        "xg_cl.fit(X_train, y_train)\n",
        "preds = xg_cl.predict(X_test)\n",
        "accuracy = float(np.sum(preds==y_test))/y_test.shape[0]\n",
        "print(\"accuracy: %f\" % (accuracy))"
      ],
      "execution_count": null,
      "outputs": [
        {
          "output_type": "stream",
          "text": [
            "accuracy: 0.956140\n"
          ],
          "name": "stdout"
        }
      ]
    },
    {
      "cell_type": "code",
      "metadata": {
        "id": "GKN6xJkYNSMO"
      },
      "source": [
        "import xgboost as xgb\n",
        "import pandas as pd\n",
        "import numpy as np\n",
        "from sklearn.model_selection import train_test_split\n",
        "from sklearn.metrics import mean_squared_error\n",
        "Auto = pd.read_csv('auto.csv')\n",
        "X = Auto['displ'].values.reshape(-1, 1)\n",
        "y = Auto['mpg'].values.reshape(-1, 1)\n",
        "#.reshape(-1, 1)"
      ],
      "execution_count": null,
      "outputs": []
    },
    {
      "cell_type": "code",
      "metadata": {
        "colab": {
          "base_uri": "https://localhost:8080/"
        },
        "id": "p68B_1RoGcMN",
        "outputId": "ce02a41b-a86f-43d2-d485-6452b305f0ff"
      },
      "source": [
        "X_train, X_test, y_train, y_test= train_test_split(X, y, test_size=0.2, random_state=123)\n",
        "xg_reg = xgb.XGBRegressor(objective='reg:linear', n_estimators=10, seed=123)\n",
        "xg_reg.fit(X_train, y_train)\n",
        "preds = xg_reg.predict(X_test)\n",
        "rmse = np.sqrt(mean_squared_error(y_test, preds))\n",
        "print(\"RMSE: %f\" % (rmse))"
      ],
      "execution_count": null,
      "outputs": [
        {
          "output_type": "stream",
          "text": [
            "[04:42:28] WARNING: /workspace/src/objective/regression_obj.cu:152: reg:linear is now deprecated in favor of reg:squarederror.\n",
            "RMSE: 8.842927\n"
          ],
          "name": "stdout"
        }
      ]
    },
    {
      "cell_type": "markdown",
      "metadata": {
        "id": "HKkBrDYnXl8C"
      },
      "source": [
        "# **999**"
      ]
    },
    {
      "cell_type": "code",
      "metadata": {
        "id": "7YQHvIQJXl8C"
      },
      "source": [
        ""
      ],
      "execution_count": null,
      "outputs": []
    },
    {
      "cell_type": "markdown",
      "metadata": {
        "id": "3267IqReXl8D"
      },
      "source": [
        "# **121212**"
      ]
    },
    {
      "cell_type": "code",
      "metadata": {
        "id": "Z5bqstkYXl8D"
      },
      "source": [
        ""
      ],
      "execution_count": null,
      "outputs": []
    },
    {
      "cell_type": "markdown",
      "metadata": {
        "id": "aq_XJkDaG2Lg"
      },
      "source": [
        "# **999**"
      ]
    },
    {
      "cell_type": "code",
      "metadata": {
        "id": "F7d-o-4CXKlo"
      },
      "source": [
        ""
      ],
      "execution_count": null,
      "outputs": []
    },
    {
      "cell_type": "markdown",
      "metadata": {
        "id": "1tbj-vJHXl8C"
      },
      "source": [
        "# **101010**"
      ]
    },
    {
      "cell_type": "code",
      "metadata": {
        "id": "DDuCRLuZXl8C"
      },
      "source": [
        ""
      ],
      "execution_count": null,
      "outputs": []
    },
    {
      "cell_type": "markdown",
      "metadata": {
        "id": "4adZagd-4Yc7"
      },
      "source": [
        "# **101010**"
      ]
    },
    {
      "cell_type": "code",
      "metadata": {
        "id": "Us9TmV2rXFwn"
      },
      "source": [
        ""
      ],
      "execution_count": null,
      "outputs": []
    },
    {
      "cell_type": "markdown",
      "metadata": {
        "id": "34tHWcLAXl8C"
      },
      "source": [
        "# **111111**"
      ]
    },
    {
      "cell_type": "code",
      "metadata": {
        "id": "Gi5F2dcgXl8D"
      },
      "source": [
        ""
      ],
      "execution_count": null,
      "outputs": []
    },
    {
      "cell_type": "markdown",
      "metadata": {
        "id": "cZhzShcZFFCL"
      },
      "source": [
        "# **111111**"
      ]
    },
    {
      "cell_type": "code",
      "metadata": {
        "id": "_j9J0kGbXBG4"
      },
      "source": [
        ""
      ],
      "execution_count": null,
      "outputs": []
    },
    {
      "cell_type": "markdown",
      "metadata": {
        "id": "gjLNL3qd8M-J"
      },
      "source": [
        "# **121212**"
      ]
    },
    {
      "cell_type": "code",
      "metadata": {
        "id": "_Zc0QrpsW84h"
      },
      "source": [
        ""
      ],
      "execution_count": null,
      "outputs": []
    },
    {
      "cell_type": "markdown",
      "metadata": {
        "id": "1b2kTNMrBt8E"
      },
      "source": [
        "# **131313**"
      ]
    },
    {
      "cell_type": "code",
      "metadata": {
        "id": "gmZm3MksEn9D"
      },
      "source": [
        ""
      ],
      "execution_count": null,
      "outputs": []
    },
    {
      "cell_type": "markdown",
      "metadata": {
        "id": "Iy30MVWQ5gyD"
      },
      "source": [
        "# **141414**"
      ]
    },
    {
      "cell_type": "code",
      "metadata": {
        "colab": {
          "base_uri": "https://localhost:8080/"
        },
        "id": "K29O9L9-F5nF",
        "outputId": "c9023cd4-c1be-4f68-92e2-1fee89f947df"
      },
      "source": [
        ""
      ],
      "execution_count": null,
      "outputs": [
        {
          "output_type": "execute_result",
          "data": {
            "text/plain": [
              "0.7112260057484923"
            ]
          },
          "metadata": {
            "tags": []
          },
          "execution_count": 31
        }
      ]
    },
    {
      "cell_type": "markdown",
      "metadata": {
        "id": "VrwdBuO1Xl8D"
      },
      "source": [
        "# **141414**"
      ]
    },
    {
      "cell_type": "code",
      "metadata": {
        "colab": {
          "base_uri": "https://localhost:8080/"
        },
        "id": "zUmAZjwnXl8D",
        "outputId": "c9023cd4-c1be-4f68-92e2-1fee89f947df"
      },
      "source": [
        ""
      ],
      "execution_count": null,
      "outputs": [
        {
          "output_type": "execute_result",
          "data": {
            "text/plain": [
              "0.7112260057484923"
            ]
          },
          "metadata": {
            "tags": []
          },
          "execution_count": 31
        }
      ]
    }
  ]
}